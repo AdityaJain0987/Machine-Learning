{
 "cells": [
  {
   "cell_type": "code",
   "execution_count": 1,
   "metadata": {},
   "outputs": [
    {
     "name": "stdout",
     "output_type": "stream",
     "text": [
      "   ID  Feature_1  Feature_2  Feature_3  Feature_4  Feature_5        Target\n",
      "0   1  -0.299150   0.980381  -1.244780   0.420551  -0.352235  8.168743e-10\n",
      "1   2  -0.374319  -1.179867   0.615588   0.054701   0.687182 -5.081225e-10\n",
      "2   3  -1.240429  -0.139086  -0.001653   0.487685  -0.242808  4.560170e-10\n",
      "3   4  -0.429881  -1.724246  -0.098046   0.896504   0.318585 -2.647546e-09\n",
      "4   5  -1.726345   1.945823   1.275979  -0.474670   1.050494 -1.704606e-08\n"
     ]
    },
    {
     "data": {
      "text/plain": [
       "(48000, 7)"
      ]
     },
     "execution_count": 1,
     "metadata": {},
     "output_type": "execute_result"
    }
   ],
   "source": [
    "import numpy as np\n",
    "import pandas as pd\n",
    "import matplotlib.pyplot as plt\n",
    "from polynomial_regression_lib import *\n",
    "\n",
    "\n",
    "file_path = r\"C:\\Users\\Aditya Jain\\OneDrive - Indian Institute of Technology Indian School of Mines Dhanbad\\WOC\\Polynomial_regression\\polynomial_regression_train.csv\"\n",
    "\n",
    "df = pd.read_csv(file_path)\n",
    "\n",
    "print(df.head())\n",
    "df.shape"
   ]
  },
  {
   "cell_type": "markdown",
   "metadata": {},
   "source": [
    "TRAINING"
   ]
  },
  {
   "cell_type": "code",
   "execution_count": 2,
   "metadata": {},
   "outputs": [
    {
     "data": {
      "text/html": [
       "<div>\n",
       "<style scoped>\n",
       "    .dataframe tbody tr th:only-of-type {\n",
       "        vertical-align: middle;\n",
       "    }\n",
       "\n",
       "    .dataframe tbody tr th {\n",
       "        vertical-align: top;\n",
       "    }\n",
       "\n",
       "    .dataframe thead th {\n",
       "        text-align: right;\n",
       "    }\n",
       "</style>\n",
       "<table border=\"1\" class=\"dataframe\">\n",
       "  <thead>\n",
       "    <tr style=\"text-align: right;\">\n",
       "      <th></th>\n",
       "      <th>ID</th>\n",
       "      <th>Feature_1</th>\n",
       "      <th>Feature_2</th>\n",
       "      <th>Feature_3</th>\n",
       "      <th>Feature_4</th>\n",
       "      <th>Feature_5</th>\n",
       "      <th>Target</th>\n",
       "    </tr>\n",
       "  </thead>\n",
       "  <tbody>\n",
       "    <tr>\n",
       "      <th>0</th>\n",
       "      <td>1</td>\n",
       "      <td>-0.299150</td>\n",
       "      <td>0.980381</td>\n",
       "      <td>-1.244780</td>\n",
       "      <td>0.420551</td>\n",
       "      <td>-0.352235</td>\n",
       "      <td>8.168743e-10</td>\n",
       "    </tr>\n",
       "    <tr>\n",
       "      <th>1</th>\n",
       "      <td>2</td>\n",
       "      <td>-0.374319</td>\n",
       "      <td>-1.179867</td>\n",
       "      <td>0.615588</td>\n",
       "      <td>0.054701</td>\n",
       "      <td>0.687182</td>\n",
       "      <td>-5.081225e-10</td>\n",
       "    </tr>\n",
       "    <tr>\n",
       "      <th>2</th>\n",
       "      <td>3</td>\n",
       "      <td>-1.240429</td>\n",
       "      <td>-0.139086</td>\n",
       "      <td>-0.001653</td>\n",
       "      <td>0.487685</td>\n",
       "      <td>-0.242808</td>\n",
       "      <td>4.560170e-10</td>\n",
       "    </tr>\n",
       "    <tr>\n",
       "      <th>3</th>\n",
       "      <td>4</td>\n",
       "      <td>-0.429881</td>\n",
       "      <td>-1.724246</td>\n",
       "      <td>-0.098046</td>\n",
       "      <td>0.896504</td>\n",
       "      <td>0.318585</td>\n",
       "      <td>-2.647546e-09</td>\n",
       "    </tr>\n",
       "    <tr>\n",
       "      <th>4</th>\n",
       "      <td>5</td>\n",
       "      <td>-1.726345</td>\n",
       "      <td>1.945823</td>\n",
       "      <td>1.275979</td>\n",
       "      <td>-0.474670</td>\n",
       "      <td>1.050494</td>\n",
       "      <td>-1.704606e-08</td>\n",
       "    </tr>\n",
       "    <tr>\n",
       "      <th>5</th>\n",
       "      <td>6</td>\n",
       "      <td>0.719335</td>\n",
       "      <td>-0.958623</td>\n",
       "      <td>0.327252</td>\n",
       "      <td>-0.578998</td>\n",
       "      <td>-1.306745</td>\n",
       "      <td>-3.458655e-10</td>\n",
       "    </tr>\n",
       "    <tr>\n",
       "      <th>6</th>\n",
       "      <td>7</td>\n",
       "      <td>0.252856</td>\n",
       "      <td>-0.690294</td>\n",
       "      <td>0.737798</td>\n",
       "      <td>-1.752012</td>\n",
       "      <td>-1.811167</td>\n",
       "      <td>-7.451065e-09</td>\n",
       "    </tr>\n",
       "    <tr>\n",
       "      <th>7</th>\n",
       "      <td>8</td>\n",
       "      <td>0.324350</td>\n",
       "      <td>-0.514596</td>\n",
       "      <td>-1.864251</td>\n",
       "      <td>-0.019060</td>\n",
       "      <td>-0.026929</td>\n",
       "      <td>3.512555e-09</td>\n",
       "    </tr>\n",
       "    <tr>\n",
       "      <th>8</th>\n",
       "      <td>9</td>\n",
       "      <td>-0.632990</td>\n",
       "      <td>-0.959605</td>\n",
       "      <td>-1.719171</td>\n",
       "      <td>1.408667</td>\n",
       "      <td>-1.114809</td>\n",
       "      <td>-1.301514e-09</td>\n",
       "    </tr>\n",
       "    <tr>\n",
       "      <th>9</th>\n",
       "      <td>10</td>\n",
       "      <td>-1.078015</td>\n",
       "      <td>0.524848</td>\n",
       "      <td>0.079212</td>\n",
       "      <td>-1.729532</td>\n",
       "      <td>-1.358179</td>\n",
       "      <td>-9.762635e-09</td>\n",
       "    </tr>\n",
       "  </tbody>\n",
       "</table>\n",
       "</div>"
      ],
      "text/plain": [
       "   ID  Feature_1  Feature_2  Feature_3  Feature_4  Feature_5        Target\n",
       "0   1  -0.299150   0.980381  -1.244780   0.420551  -0.352235  8.168743e-10\n",
       "1   2  -0.374319  -1.179867   0.615588   0.054701   0.687182 -5.081225e-10\n",
       "2   3  -1.240429  -0.139086  -0.001653   0.487685  -0.242808  4.560170e-10\n",
       "3   4  -0.429881  -1.724246  -0.098046   0.896504   0.318585 -2.647546e-09\n",
       "4   5  -1.726345   1.945823   1.275979  -0.474670   1.050494 -1.704606e-08\n",
       "5   6   0.719335  -0.958623   0.327252  -0.578998  -1.306745 -3.458655e-10\n",
       "6   7   0.252856  -0.690294   0.737798  -1.752012  -1.811167 -7.451065e-09\n",
       "7   8   0.324350  -0.514596  -1.864251  -0.019060  -0.026929  3.512555e-09\n",
       "8   9  -0.632990  -0.959605  -1.719171   1.408667  -1.114809 -1.301514e-09\n",
       "9  10  -1.078015   0.524848   0.079212  -1.729532  -1.358179 -9.762635e-09"
      ]
     },
     "execution_count": 2,
     "metadata": {},
     "output_type": "execute_result"
    }
   ],
   "source": [
    "df.head(10)"
   ]
  },
  {
   "cell_type": "code",
   "execution_count": 3,
   "metadata": {},
   "outputs": [],
   "source": [
    "data = df.to_numpy()"
   ]
  },
  {
   "cell_type": "code",
   "execution_count": 4,
   "metadata": {},
   "outputs": [],
   "source": [
    "# load the dataset\n",
    "x_train = np.delete(data, (0,6), axis=1)\n",
    "y_train = data[:,6]"
   ]
  },
  {
   "cell_type": "markdown",
   "metadata": {},
   "source": [
    "DEGREE 3"
   ]
  },
  {
   "cell_type": "code",
   "execution_count": 5,
   "metadata": {},
   "outputs": [
    {
     "data": {
      "text/plain": [
       "array([[-2.99150217e-01,  9.80381374e-01, -1.24478036e+00,\n",
       "         4.20551444e-01, -3.52234517e-01],\n",
       "       [-3.74319425e-01, -1.17986704e+00,  6.15588148e-01,\n",
       "         5.47011163e-02,  6.87182229e-01],\n",
       "       [-1.24042933e+00, -1.39085810e-01, -1.65302067e-03,\n",
       "         4.87685105e-01, -2.42808052e-01],\n",
       "       ...,\n",
       "       [-1.67753838e+00,  1.75827436e+00,  1.02053447e+00,\n",
       "         3.46495673e-01,  1.31375468e+00],\n",
       "       [ 1.31334466e+00,  3.15358042e-01, -6.06291322e-02,\n",
       "         7.03251230e-01, -6.18519654e-01],\n",
       "       [-9.99869575e-01, -1.65745830e+00, -8.12632269e-01,\n",
       "         1.01871706e+00, -1.23699276e+00]])"
      ]
     },
     "execution_count": 5,
     "metadata": {},
     "output_type": "execute_result"
    }
   ],
   "source": [
    "x_train"
   ]
  },
  {
   "cell_type": "code",
   "execution_count": 6,
   "metadata": {},
   "outputs": [],
   "source": [
    "x_train_d3 = x_train    #polynomial_terms(x_train, degree=1)"
   ]
  },
  {
   "cell_type": "code",
   "execution_count": 7,
   "metadata": {},
   "outputs": [
    {
     "data": {
      "text/plain": [
       "(48000, 5)"
      ]
     },
     "execution_count": 7,
     "metadata": {},
     "output_type": "execute_result"
    }
   ],
   "source": [
    "x_train_d3.shape"
   ]
  },
  {
   "cell_type": "code",
   "execution_count": 8,
   "metadata": {},
   "outputs": [
    {
     "name": "stdout",
     "output_type": "stream",
     "text": [
      "The shape of x_train is: (48000, 5)\n",
      "The shape of y_train is:  (48000,)\n",
      "Number of training examples (m): 48000\n"
     ]
    }
   ],
   "source": [
    "print ('The shape of x_train is:', x_train_d3.shape)\n",
    "print ('The shape of y_train is: ', y_train.shape)\n",
    "print ('Number of training examples (m):', len(x_train_d3))"
   ]
  },
  {
   "cell_type": "code",
   "execution_count": 9,
   "metadata": {},
   "outputs": [
    {
     "data": {
      "image/png": "[encoded data removed]",
      "text/plain": [
       "<Figure size 640x480 with 1 Axes>"
      ]
     },
     "metadata": {},
     "output_type": "display_data"
    }
   ],
   "source": [
    "#rough \n",
    "plt.plot(x_train_d3,y_train,'g.-')\n",
    "plt.show()"
   ]
  },
  {
   "cell_type": "code",
   "execution_count": 10,
   "metadata": {},
   "outputs": [
    {
     "name": "stdout",
     "output_type": "stream",
     "text": [
      "mean_train_d3 = [ 0.01462423 -0.00111497  0.00248453  0.00069082 -0.00512095], \n",
      "sigma = [1.15587174 1.15385438 1.15396609 1.15495499 1.15242664]\n",
      "Peak to Peak range by column in Raw_x:[3.99950485 3.9998794  3.99993517 3.99966558 3.9997406 ]\n",
      "Peak to Peak range by column in Normalized_x:[3.4601632  3.46653743 3.46625019 3.46304886 3.47071168]\n"
     ]
    }
   ],
   "source": [
    "# normalize the original features\n",
    "x_norm_d3 , mean_train_d3 , sigma_train_d3 =z_score_normalization_train(x_train_d3)\n",
    "print(f\"mean_train_d3 = {mean_train_d3}, \\nsigma = {sigma_train_d3}\")\n",
    "print(f\"Peak to Peak range by column in Raw_x:{np.ptp(x_train_d3,axis=0)}\")   \n",
    "print(f\"Peak to Peak range by column in Normalized_x:{np.ptp(x_norm_d3,axis=0)}\")"
   ]
  },
  {
   "cell_type": "code",
   "execution_count": 11,
   "metadata": {},
   "outputs": [
    {
     "name": "stdout",
     "output_type": "stream",
     "text": [
      "mean_train_d3 = (5,), \n",
      "sigma = (5,)\n"
     ]
    }
   ],
   "source": [
    "print(f\"mean_train_d3 = {mean_train_d3.shape}, \\nsigma = {sigma_train_d3.shape}\")"
   ]
  },
  {
   "cell_type": "code",
   "execution_count": 12,
   "metadata": {},
   "outputs": [],
   "source": [
    "np.random.seed(1)\n",
    "w_d3 = np.random.rand(x_train_d3.shape[1])\n",
    "b_d3 = np.random.rand()"
   ]
  },
  {
   "cell_type": "code",
   "execution_count": 13,
   "metadata": {},
   "outputs": [
    {
     "data": {
      "text/plain": [
       "(5,)"
      ]
     },
     "execution_count": 13,
     "metadata": {},
     "output_type": "execute_result"
    }
   ],
   "source": [
    "w_d3.shape"
   ]
  },
  {
   "cell_type": "code",
   "execution_count": 14,
   "metadata": {},
   "outputs": [],
   "source": [
    "\n",
    "# w = w.reshape(25,1)     # converting into 2D array\n",
    "b_d3 = np.array(b_d3)"
   ]
  },
  {
   "cell_type": "code",
   "execution_count": 15,
   "metadata": {},
   "outputs": [
    {
     "name": "stdout",
     "output_type": "stream",
     "text": [
      "w_d3: [4.17022005e-01 7.20324493e-01 1.14374817e-04 3.02332573e-01\n",
      " 1.46755891e-01]\n",
      "b_d3: 0.0923385947687978\n"
     ]
    }
   ],
   "source": [
    "\n",
    "print(f\"w_d3: {w_d3}\")\n",
    "print(f\"b_d3: {b_d3}\")\n"
   ]
  },
  {
   "cell_type": "code",
   "execution_count": 16,
   "metadata": {},
   "outputs": [
    {
     "data": {
      "text/plain": [
       "np.float64(0.40862228256134925)"
      ]
     },
     "execution_count": 16,
     "metadata": {},
     "output_type": "execute_result"
    }
   ],
   "source": [
    "compute_cost(x_norm_d3,y_train,w_d3,b_d3)"
   ]
  },
  {
   "cell_type": "code",
   "execution_count": 17,
   "metadata": {},
   "outputs": [
    {
     "data": {
      "text/plain": [
       "(array([ 0.4180444 ,  0.72207097, -0.00209225,  0.3060061 ,  0.14816211]),\n",
       " np.float64(0.0923385950957536))"
      ]
     },
     "execution_count": 17,
     "metadata": {},
     "output_type": "execute_result"
    }
   ],
   "source": [
    "compute_gradient(x_norm_d3,y_train,w_d3,b_d3)"
   ]
  },
  {
   "cell_type": "code",
   "execution_count": 18,
   "metadata": {},
   "outputs": [],
   "source": [
    "dj_dw3, dj_db3 = compute_gradient(x_norm_d3,y_train,w_d3,b_d3)"
   ]
  },
  {
   "cell_type": "code",
   "execution_count": 19,
   "metadata": {},
   "outputs": [
    {
     "data": {
      "text/plain": [
       "(5,)"
      ]
     },
     "execution_count": 19,
     "metadata": {},
     "output_type": "execute_result"
    }
   ],
   "source": [
    "dj_dw3.shape"
   ]
  },
  {
   "cell_type": "code",
   "execution_count": 20,
   "metadata": {},
   "outputs": [
    {
     "data": {
      "text/plain": [
       "()"
      ]
     },
     "execution_count": 20,
     "metadata": {},
     "output_type": "execute_result"
    }
   ],
   "source": [
    "b_d3.shape"
   ]
  },
  {
   "cell_type": "code",
   "execution_count": 21,
   "metadata": {},
   "outputs": [
    {
     "data": {
      "text/plain": [
       "()"
      ]
     },
     "execution_count": 21,
     "metadata": {},
     "output_type": "execute_result"
    }
   ],
   "source": [
    "dj_db3.shape"
   ]
  },
  {
   "cell_type": "code",
   "execution_count": 22,
   "metadata": {},
   "outputs": [
    {
     "name": "stdout",
     "output_type": "stream",
     "text": [
      "Iteration 0: Cost 0.40\n",
      "Iteration 1000: Cost 0.00\n",
      "Iteration 2000: Cost 0.00\n",
      "Iteration 3000: Cost 0.00\n",
      "Iteration 4000: Cost 0.00\n",
      "Iteration 5000: Cost 0.00\n",
      "Iteration 6000: Cost 0.00\n",
      "Iteration 7000: Cost 0.00\n",
      "Iteration 8000: Cost 0.00\n",
      "Iteration 9000: Cost 0.00\n",
      "Iteration 9999: Cost 0.00\n"
     ]
    }
   ],
   "source": [
    "iterations = 10000\n",
    "alpha = 0.01\n",
    "\n",
    "w_d3,b_d3, J_history_d3,_ = gradient_descent(x_norm_d3,y_train,w_d3,b_d3, compute_cost, compute_gradient, alpha, iterations)"
   ]
  },
  {
   "cell_type": "code",
   "execution_count": null,
   "metadata": {},
   "outputs": [],
   "source": []
  },
  {
   "cell_type": "code",
   "execution_count": null,
   "metadata": {},
   "outputs": [],
   "source": []
  },
  {
   "cell_type": "code",
   "execution_count": null,
   "metadata": {},
   "outputs": [],
   "source": []
  },
  {
   "cell_type": "markdown",
   "metadata": {},
   "source": [
    "TESTING"
   ]
  },
  {
   "cell_type": "code",
   "execution_count": 23,
   "metadata": {},
   "outputs": [
    {
     "name": "stdout",
     "output_type": "stream",
     "text": [
      "   ID  Feature_1  Feature_2  Feature_3  Feature_4  Feature_5\n",
      "0   1   1.718004  -0.201814   0.791965  -0.410485   1.678171\n",
      "1   2   0.782395   0.897345  -0.059263  -1.725306  -1.363520\n",
      "2   3   0.619033   0.397670  -0.506356  -0.546682  -1.629186\n",
      "3   4   1.950046  -1.874789  -0.144491   1.952435   1.908823\n",
      "4   5   0.097417   0.960511  -1.031956  -1.585839  -1.297509\n"
     ]
    },
    {
     "data": {
      "text/plain": [
       "(12000, 6)"
      ]
     },
     "execution_count": 23,
     "metadata": {},
     "output_type": "execute_result"
    }
   ],
   "source": [
    "file_path = r\"C:\\Users\\Aditya Jain\\OneDrive - Indian Institute of Technology Indian School of Mines Dhanbad\\WOC\\Polynomial_regression\\polynomial_regression_test.csv\"\n",
    "df = pd.read_csv(file_path)\n",
    "\n",
    "print(df.head())\n",
    "df.shape"
   ]
  },
  {
   "cell_type": "code",
   "execution_count": 24,
   "metadata": {},
   "outputs": [
    {
     "data": {
      "text/html": [
       "<div>\n",
       "<style scoped>\n",
       "    .dataframe tbody tr th:only-of-type {\n",
       "        vertical-align: middle;\n",
       "    }\n",
       "\n",
       "    .dataframe tbody tr th {\n",
       "        vertical-align: top;\n",
       "    }\n",
       "\n",
       "    .dataframe thead th {\n",
       "        text-align: right;\n",
       "    }\n",
       "</style>\n",
       "<table border=\"1\" class=\"dataframe\">\n",
       "  <thead>\n",
       "    <tr style=\"text-align: right;\">\n",
       "      <th></th>\n",
       "      <th>ID</th>\n",
       "      <th>Feature_1</th>\n",
       "      <th>Feature_2</th>\n",
       "      <th>Feature_3</th>\n",
       "      <th>Feature_4</th>\n",
       "      <th>Feature_5</th>\n",
       "    </tr>\n",
       "  </thead>\n",
       "  <tbody>\n",
       "    <tr>\n",
       "      <th>0</th>\n",
       "      <td>1</td>\n",
       "      <td>1.718004</td>\n",
       "      <td>-0.201814</td>\n",
       "      <td>0.791965</td>\n",
       "      <td>-0.410485</td>\n",
       "      <td>1.678171</td>\n",
       "    </tr>\n",
       "    <tr>\n",
       "      <th>1</th>\n",
       "      <td>2</td>\n",
       "      <td>0.782395</td>\n",
       "      <td>0.897345</td>\n",
       "      <td>-0.059263</td>\n",
       "      <td>-1.725306</td>\n",
       "      <td>-1.363520</td>\n",
       "    </tr>\n",
       "    <tr>\n",
       "      <th>2</th>\n",
       "      <td>3</td>\n",
       "      <td>0.619033</td>\n",
       "      <td>0.397670</td>\n",
       "      <td>-0.506356</td>\n",
       "      <td>-0.546682</td>\n",
       "      <td>-1.629186</td>\n",
       "    </tr>\n",
       "    <tr>\n",
       "      <th>3</th>\n",
       "      <td>4</td>\n",
       "      <td>1.950046</td>\n",
       "      <td>-1.874789</td>\n",
       "      <td>-0.144491</td>\n",
       "      <td>1.952435</td>\n",
       "      <td>1.908823</td>\n",
       "    </tr>\n",
       "    <tr>\n",
       "      <th>4</th>\n",
       "      <td>5</td>\n",
       "      <td>0.097417</td>\n",
       "      <td>0.960511</td>\n",
       "      <td>-1.031956</td>\n",
       "      <td>-1.585839</td>\n",
       "      <td>-1.297509</td>\n",
       "    </tr>\n",
       "    <tr>\n",
       "      <th>5</th>\n",
       "      <td>6</td>\n",
       "      <td>1.629072</td>\n",
       "      <td>-0.142205</td>\n",
       "      <td>-1.753674</td>\n",
       "      <td>0.290013</td>\n",
       "      <td>-1.624790</td>\n",
       "    </tr>\n",
       "    <tr>\n",
       "      <th>6</th>\n",
       "      <td>7</td>\n",
       "      <td>-0.674945</td>\n",
       "      <td>-0.590210</td>\n",
       "      <td>1.164653</td>\n",
       "      <td>0.053788</td>\n",
       "      <td>1.728475</td>\n",
       "    </tr>\n",
       "    <tr>\n",
       "      <th>7</th>\n",
       "      <td>8</td>\n",
       "      <td>1.888828</td>\n",
       "      <td>1.108166</td>\n",
       "      <td>1.548626</td>\n",
       "      <td>-0.034194</td>\n",
       "      <td>-0.618244</td>\n",
       "    </tr>\n",
       "    <tr>\n",
       "      <th>8</th>\n",
       "      <td>9</td>\n",
       "      <td>-1.667730</td>\n",
       "      <td>0.904480</td>\n",
       "      <td>1.375469</td>\n",
       "      <td>-0.376666</td>\n",
       "      <td>-0.572693</td>\n",
       "    </tr>\n",
       "    <tr>\n",
       "      <th>9</th>\n",
       "      <td>10</td>\n",
       "      <td>0.382029</td>\n",
       "      <td>-1.659712</td>\n",
       "      <td>0.897024</td>\n",
       "      <td>-1.793539</td>\n",
       "      <td>0.102284</td>\n",
       "    </tr>\n",
       "  </tbody>\n",
       "</table>\n",
       "</div>"
      ],
      "text/plain": [
       "   ID  Feature_1  Feature_2  Feature_3  Feature_4  Feature_5\n",
       "0   1   1.718004  -0.201814   0.791965  -0.410485   1.678171\n",
       "1   2   0.782395   0.897345  -0.059263  -1.725306  -1.363520\n",
       "2   3   0.619033   0.397670  -0.506356  -0.546682  -1.629186\n",
       "3   4   1.950046  -1.874789  -0.144491   1.952435   1.908823\n",
       "4   5   0.097417   0.960511  -1.031956  -1.585839  -1.297509\n",
       "5   6   1.629072  -0.142205  -1.753674   0.290013  -1.624790\n",
       "6   7  -0.674945  -0.590210   1.164653   0.053788   1.728475\n",
       "7   8   1.888828   1.108166   1.548626  -0.034194  -0.618244\n",
       "8   9  -1.667730   0.904480   1.375469  -0.376666  -0.572693\n",
       "9  10   0.382029  -1.659712   0.897024  -1.793539   0.102284"
      ]
     },
     "execution_count": 24,
     "metadata": {},
     "output_type": "execute_result"
    }
   ],
   "source": [
    "df.head(10)"
   ]
  },
  {
   "cell_type": "code",
   "execution_count": 25,
   "metadata": {},
   "outputs": [],
   "source": [
    "data = df.to_numpy()"
   ]
  },
  {
   "cell_type": "code",
   "execution_count": 26,
   "metadata": {},
   "outputs": [
    {
     "name": "stdout",
     "output_type": "stream",
     "text": [
      "The shape of x_test is: (12000, 5)\n",
      "Number of testing examples (m): 12000\n"
     ]
    }
   ],
   "source": [
    "# load the dataset\n",
    "x_test = np.delete(data, (0), axis=1)\n",
    "print ('The shape of x_test is:', x_test.shape)\n",
    "print ('Number of testing examples (m):', len(x_test))"
   ]
  },
  {
   "cell_type": "code",
   "execution_count": 27,
   "metadata": {},
   "outputs": [],
   "source": [
    "x_test_d3 = polynomial_terms(x_test, degree=3)   "
   ]
  },
  {
   "cell_type": "code",
   "execution_count": 28,
   "metadata": {},
   "outputs": [
    {
     "name": "stdout",
     "output_type": "stream",
     "text": [
      "mean_train = [ 0.01462423 -0.00111497  0.00248453  0.00069082 -0.00512095], \n",
      "sigma = [1.15587174 1.15385438 1.15396609 1.15495499 1.15242664]\n"
     ]
    },
    {
     "ename": "ValueError",
     "evalue": "operands could not be broadcast together with shapes (12000,55) (5,) ",
     "output_type": "error",
     "traceback": [
      "\u001b[1;31m---------------------------------------------------------------------------\u001b[0m",
      "\u001b[1;31mValueError\u001b[0m                                Traceback (most recent call last)",
      "Cell \u001b[1;32mIn[28], line 3\u001b[0m\n\u001b[0;32m      1\u001b[0m \u001b[38;5;66;03m#normalize the original features\u001b[39;00m\n\u001b[0;32m      2\u001b[0m \u001b[38;5;28mprint\u001b[39m(\u001b[38;5;124mf\u001b[39m\u001b[38;5;124m\"\u001b[39m\u001b[38;5;124mmean_train = \u001b[39m\u001b[38;5;132;01m{\u001b[39;00mmean_train_d3\u001b[38;5;132;01m}\u001b[39;00m\u001b[38;5;124m, \u001b[39m\u001b[38;5;130;01m\\n\u001b[39;00m\u001b[38;5;124msigma = \u001b[39m\u001b[38;5;132;01m{\u001b[39;00msigma_train_d3\u001b[38;5;132;01m}\u001b[39;00m\u001b[38;5;124m\"\u001b[39m)\n\u001b[1;32m----> 3\u001b[0m x_norm \u001b[38;5;241m=\u001b[39m\u001b[43mz_score_normalization_test\u001b[49m\u001b[43m(\u001b[49m\u001b[43mx_test_d3\u001b[49m\u001b[43m,\u001b[49m\u001b[43mmean_train_d3\u001b[49m\u001b[43m,\u001b[49m\u001b[43msigma_train_d3\u001b[49m\u001b[43m)\u001b[49m\n\u001b[0;32m      4\u001b[0m \u001b[38;5;28mprint\u001b[39m(\u001b[38;5;124mf\u001b[39m\u001b[38;5;124m\"\u001b[39m\u001b[38;5;124mPeak to Peak range by column in Raw_x:\u001b[39m\u001b[38;5;132;01m{\u001b[39;00mnp\u001b[38;5;241m.\u001b[39mptp(x_test_d3,axis\u001b[38;5;241m=\u001b[39m\u001b[38;5;241m0\u001b[39m)\u001b[38;5;132;01m}\u001b[39;00m\u001b[38;5;124m\"\u001b[39m)   \n\u001b[0;32m      5\u001b[0m \u001b[38;5;28mprint\u001b[39m(\u001b[38;5;124mf\u001b[39m\u001b[38;5;124m\"\u001b[39m\u001b[38;5;124mPeak to Peak range by column in Normalized_x:\u001b[39m\u001b[38;5;132;01m{\u001b[39;00mnp\u001b[38;5;241m.\u001b[39mptp(x_norm,axis\u001b[38;5;241m=\u001b[39m\u001b[38;5;241m0\u001b[39m)\u001b[38;5;132;01m}\u001b[39;00m\u001b[38;5;124m\"\u001b[39m)\n",
      "File \u001b[1;32mc:\\Users\\Aditya Jain\\OneDrive - Indian Institute of Technology Indian School of Mines Dhanbad\\WOC\\Polynomial_regression\\polynomial_regression_lib.py:29\u001b[0m, in \u001b[0;36mz_score_normalization_test\u001b[1;34m(x, mean, sigma)\u001b[0m\n\u001b[0;32m     28\u001b[0m \u001b[38;5;28;01mdef\u001b[39;00m \u001b[38;5;21mz_score_normalization_test\u001b[39m(x,mean,sigma):\n\u001b[1;32m---> 29\u001b[0m     x_norm \u001b[38;5;241m=\u001b[39m (\u001b[43mx\u001b[49m\u001b[38;5;241;43m-\u001b[39;49m\u001b[43mmean\u001b[49m)\u001b[38;5;241m/\u001b[39msigma\n\u001b[0;32m     31\u001b[0m     \u001b[38;5;28;01mreturn\u001b[39;00m x_norm\n",
      "\u001b[1;31mValueError\u001b[0m: operands could not be broadcast together with shapes (12000,55) (5,) "
     ]
    }
   ],
   "source": [
    "#normalize the original features\n",
    "print(f\"mean_train = {mean_train_d3}, \\nsigma = {sigma_train_d3}\")\n",
    "x_norm =z_score_normalization_test(x_test_d3,mean_train_d3,sigma_train_d3)\n",
    "print(f\"Peak to Peak range by column in Raw_x:{np.ptp(x_test_d3,axis=0)}\")   \n",
    "print(f\"Peak to Peak range by column in Normalized_x:{np.ptp(x_norm,axis=0)}\")"
   ]
  },
  {
   "cell_type": "code",
   "execution_count": 31,
   "metadata": {},
   "outputs": [],
   "source": [
    "x_trail_d3 = x_norm[(1,2,4),:]"
   ]
  },
  {
   "cell_type": "code",
   "execution_count": null,
   "metadata": {},
   "outputs": [],
   "source": [
    "predictor(x_trail_d3, w_d3, b_d3)"
   ]
  },
  {
   "cell_type": "code",
   "execution_count": null,
   "metadata": {},
   "outputs": [],
   "source": []
  },
  {
   "cell_type": "code",
   "execution_count": null,
   "metadata": {},
   "outputs": [],
   "source": []
  }
 ],
 "metadata": {
  "kernelspec": {
   "display_name": "Python 3",
   "language": "python",
   "name": "python3"
  },
  "language_info": {
   "codemirror_mode": {
    "name": "ipython",
    "version": 3
   },
   "file_extension": ".py",
   "mimetype": "text/x-python",
   "name": "python",
   "nbconvert_exporter": "python",
   "pygments_lexer": "ipython3",
   "version": "3.11.9"
  }
 },
 "nbformat": 4,
 "nbformat_minor": 2
}
