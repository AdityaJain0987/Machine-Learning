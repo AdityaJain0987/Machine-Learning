{
 "cells": [
  {
   "cell_type": "code",
   "execution_count": 1,
   "metadata": {},
   "outputs": [],
   "source": [
    "import numpy as np\n",
    "import pandas as pd\n",
    "import matplotlib.pyplot as plt\n",
    "from logistic_regression_lib import *"
   ]
  },
  {
   "cell_type": "markdown",
   "metadata": {},
   "source": [
    "TRAINING"
   ]
  },
  {
   "cell_type": "code",
   "execution_count": 2,
   "metadata": {},
   "outputs": [
    {
     "name": "stdout",
     "output_type": "stream",
     "text": [
      "   ID  Feature_1   Feature_2   Feature_3   Feature_4   Feature_5   Feature_6  \\\n",
      "0   1 -36.963099  -15.014703   87.100435  101.523360   82.106571  -10.956180   \n",
      "1   2 -43.715674   18.847116   89.543406  -71.319314   35.597052  126.358570   \n",
      "2   3 -30.737550  -63.729643  106.081332   81.773948  112.769976  -12.425351   \n",
      "3   4 -27.674757 -118.869495  135.605213   99.130189   50.947548  -63.704785   \n",
      "4   5 -28.654141  -77.746597   85.215365   50.374774   79.763207  -32.703048   \n",
      "\n",
      "   Feature_7  Feature_8   Feature_9  ...  Feature_12  Feature_13  Feature_14  \\\n",
      "0   0.592326 -51.919028  -90.650434  ...  -81.183744   13.101921   18.051450   \n",
      "1 -29.837495 -40.473764  -94.079238  ...  -37.848260    7.457352  -77.420742   \n",
      "2 -29.913286 -41.771200   16.424511  ... -106.610289    5.930143  -30.177083   \n",
      "3  -7.353057 -58.140229  -80.209027  ... -149.056417    3.893419  -74.100869   \n",
      "4 -28.152031 -63.994794 -153.566789  ... -102.731465   11.160205  -13.395073   \n",
      "\n",
      "   Feature_15  Feature_16  Feature_17  Feature_18  Feature_19  Feature_20  \\\n",
      "0  -40.606288  -39.697053  -13.870802  173.722987  -17.349169  -82.550844   \n",
      "1   53.773718 -100.124294    9.870650   11.592519 -106.123605  -92.796421   \n",
      "2 -138.969234  -56.054914  -12.790661  164.832498  -37.412902  -85.441150   \n",
      "3  -47.659832  -48.209817  -36.264323   59.001922  -59.064134  -78.538639   \n",
      "4    9.416237    2.649524  -43.578704   52.261888  -66.081738  -80.325110   \n",
      "\n",
      "   Class  \n",
      "0      0  \n",
      "1      1  \n",
      "2      0  \n",
      "3      0  \n",
      "4      0  \n",
      "\n",
      "[5 rows x 22 columns]\n"
     ]
    },
    {
     "data": {
      "text/plain": [
       "(48000, 22)"
      ]
     },
     "execution_count": 2,
     "metadata": {},
     "output_type": "execute_result"
    }
   ],
   "source": [
    "file_path = r\"C:\\Users\\Aditya Jain\\OneDrive - Indian Institute of Technology Indian School of Mines Dhanbad\\WOC\\Logistic_regression\\binary_classification_train.csv\"\n",
    "df = pd.read_csv(file_path)\n",
    "\n",
    "print(df.head())\n",
    "df.shape"
   ]
  },
  {
   "cell_type": "code",
   "execution_count": 3,
   "metadata": {},
   "outputs": [
    {
     "data": {
      "text/html": [
       "<div>\n",
       "<style scoped>\n",
       "    .dataframe tbody tr th:only-of-type {\n",
       "        vertical-align: middle;\n",
       "    }\n",
       "\n",
       "    .dataframe tbody tr th {\n",
       "        vertical-align: top;\n",
       "    }\n",
       "\n",
       "    .dataframe thead th {\n",
       "        text-align: right;\n",
       "    }\n",
       "</style>\n",
       "<table border=\"1\" class=\"dataframe\">\n",
       "  <thead>\n",
       "    <tr style=\"text-align: right;\">\n",
       "      <th></th>\n",
       "      <th>ID</th>\n",
       "      <th>Feature_1</th>\n",
       "      <th>Feature_2</th>\n",
       "      <th>Feature_3</th>\n",
       "      <th>Feature_4</th>\n",
       "      <th>Feature_5</th>\n",
       "      <th>Feature_6</th>\n",
       "      <th>Feature_7</th>\n",
       "      <th>Feature_8</th>\n",
       "      <th>Feature_9</th>\n",
       "      <th>...</th>\n",
       "      <th>Feature_12</th>\n",
       "      <th>Feature_13</th>\n",
       "      <th>Feature_14</th>\n",
       "      <th>Feature_15</th>\n",
       "      <th>Feature_16</th>\n",
       "      <th>Feature_17</th>\n",
       "      <th>Feature_18</th>\n",
       "      <th>Feature_19</th>\n",
       "      <th>Feature_20</th>\n",
       "      <th>Class</th>\n",
       "    </tr>\n",
       "  </thead>\n",
       "  <tbody>\n",
       "    <tr>\n",
       "      <th>0</th>\n",
       "      <td>1</td>\n",
       "      <td>-36.963099</td>\n",
       "      <td>-15.014703</td>\n",
       "      <td>87.100435</td>\n",
       "      <td>101.523360</td>\n",
       "      <td>82.106571</td>\n",
       "      <td>-10.956180</td>\n",
       "      <td>0.592326</td>\n",
       "      <td>-51.919028</td>\n",
       "      <td>-90.650434</td>\n",
       "      <td>...</td>\n",
       "      <td>-81.183744</td>\n",
       "      <td>13.101921</td>\n",
       "      <td>18.051450</td>\n",
       "      <td>-40.606288</td>\n",
       "      <td>-39.697053</td>\n",
       "      <td>-13.870802</td>\n",
       "      <td>173.722987</td>\n",
       "      <td>-17.349169</td>\n",
       "      <td>-82.550844</td>\n",
       "      <td>0</td>\n",
       "    </tr>\n",
       "    <tr>\n",
       "      <th>1</th>\n",
       "      <td>2</td>\n",
       "      <td>-43.715674</td>\n",
       "      <td>18.847116</td>\n",
       "      <td>89.543406</td>\n",
       "      <td>-71.319314</td>\n",
       "      <td>35.597052</td>\n",
       "      <td>126.358570</td>\n",
       "      <td>-29.837495</td>\n",
       "      <td>-40.473764</td>\n",
       "      <td>-94.079238</td>\n",
       "      <td>...</td>\n",
       "      <td>-37.848260</td>\n",
       "      <td>7.457352</td>\n",
       "      <td>-77.420742</td>\n",
       "      <td>53.773718</td>\n",
       "      <td>-100.124294</td>\n",
       "      <td>9.870650</td>\n",
       "      <td>11.592519</td>\n",
       "      <td>-106.123605</td>\n",
       "      <td>-92.796421</td>\n",
       "      <td>1</td>\n",
       "    </tr>\n",
       "    <tr>\n",
       "      <th>2</th>\n",
       "      <td>3</td>\n",
       "      <td>-30.737550</td>\n",
       "      <td>-63.729643</td>\n",
       "      <td>106.081332</td>\n",
       "      <td>81.773948</td>\n",
       "      <td>112.769976</td>\n",
       "      <td>-12.425351</td>\n",
       "      <td>-29.913286</td>\n",
       "      <td>-41.771200</td>\n",
       "      <td>16.424511</td>\n",
       "      <td>...</td>\n",
       "      <td>-106.610289</td>\n",
       "      <td>5.930143</td>\n",
       "      <td>-30.177083</td>\n",
       "      <td>-138.969234</td>\n",
       "      <td>-56.054914</td>\n",
       "      <td>-12.790661</td>\n",
       "      <td>164.832498</td>\n",
       "      <td>-37.412902</td>\n",
       "      <td>-85.441150</td>\n",
       "      <td>0</td>\n",
       "    </tr>\n",
       "    <tr>\n",
       "      <th>3</th>\n",
       "      <td>4</td>\n",
       "      <td>-27.674757</td>\n",
       "      <td>-118.869495</td>\n",
       "      <td>135.605213</td>\n",
       "      <td>99.130189</td>\n",
       "      <td>50.947548</td>\n",
       "      <td>-63.704785</td>\n",
       "      <td>-7.353057</td>\n",
       "      <td>-58.140229</td>\n",
       "      <td>-80.209027</td>\n",
       "      <td>...</td>\n",
       "      <td>-149.056417</td>\n",
       "      <td>3.893419</td>\n",
       "      <td>-74.100869</td>\n",
       "      <td>-47.659832</td>\n",
       "      <td>-48.209817</td>\n",
       "      <td>-36.264323</td>\n",
       "      <td>59.001922</td>\n",
       "      <td>-59.064134</td>\n",
       "      <td>-78.538639</td>\n",
       "      <td>0</td>\n",
       "    </tr>\n",
       "    <tr>\n",
       "      <th>4</th>\n",
       "      <td>5</td>\n",
       "      <td>-28.654141</td>\n",
       "      <td>-77.746597</td>\n",
       "      <td>85.215365</td>\n",
       "      <td>50.374774</td>\n",
       "      <td>79.763207</td>\n",
       "      <td>-32.703048</td>\n",
       "      <td>-28.152031</td>\n",
       "      <td>-63.994794</td>\n",
       "      <td>-153.566789</td>\n",
       "      <td>...</td>\n",
       "      <td>-102.731465</td>\n",
       "      <td>11.160205</td>\n",
       "      <td>-13.395073</td>\n",
       "      <td>9.416237</td>\n",
       "      <td>2.649524</td>\n",
       "      <td>-43.578704</td>\n",
       "      <td>52.261888</td>\n",
       "      <td>-66.081738</td>\n",
       "      <td>-80.325110</td>\n",
       "      <td>0</td>\n",
       "    </tr>\n",
       "    <tr>\n",
       "      <th>5</th>\n",
       "      <td>6</td>\n",
       "      <td>-38.117646</td>\n",
       "      <td>-33.507201</td>\n",
       "      <td>136.486830</td>\n",
       "      <td>110.598904</td>\n",
       "      <td>81.473220</td>\n",
       "      <td>-11.071980</td>\n",
       "      <td>-11.951786</td>\n",
       "      <td>-45.813208</td>\n",
       "      <td>-119.127127</td>\n",
       "      <td>...</td>\n",
       "      <td>1.500816</td>\n",
       "      <td>2.695457</td>\n",
       "      <td>1.396752</td>\n",
       "      <td>-92.554534</td>\n",
       "      <td>-12.519282</td>\n",
       "      <td>-13.926158</td>\n",
       "      <td>93.605695</td>\n",
       "      <td>-66.760545</td>\n",
       "      <td>-81.819177</td>\n",
       "      <td>0</td>\n",
       "    </tr>\n",
       "    <tr>\n",
       "      <th>6</th>\n",
       "      <td>7</td>\n",
       "      <td>-32.710837</td>\n",
       "      <td>-104.556238</td>\n",
       "      <td>99.556202</td>\n",
       "      <td>95.745037</td>\n",
       "      <td>122.140531</td>\n",
       "      <td>-59.949488</td>\n",
       "      <td>-26.897662</td>\n",
       "      <td>-57.708221</td>\n",
       "      <td>-176.379515</td>\n",
       "      <td>...</td>\n",
       "      <td>-97.535000</td>\n",
       "      <td>14.698240</td>\n",
       "      <td>-75.975937</td>\n",
       "      <td>10.561465</td>\n",
       "      <td>-92.801302</td>\n",
       "      <td>-16.242821</td>\n",
       "      <td>238.975354</td>\n",
       "      <td>-16.785631</td>\n",
       "      <td>-84.975001</td>\n",
       "      <td>0</td>\n",
       "    </tr>\n",
       "    <tr>\n",
       "      <th>7</th>\n",
       "      <td>8</td>\n",
       "      <td>-30.299229</td>\n",
       "      <td>-115.496618</td>\n",
       "      <td>107.734218</td>\n",
       "      <td>39.097323</td>\n",
       "      <td>58.528459</td>\n",
       "      <td>52.726004</td>\n",
       "      <td>-27.217253</td>\n",
       "      <td>-41.187358</td>\n",
       "      <td>-82.751154</td>\n",
       "      <td>...</td>\n",
       "      <td>-82.413299</td>\n",
       "      <td>5.861742</td>\n",
       "      <td>-293.635505</td>\n",
       "      <td>252.984181</td>\n",
       "      <td>-94.177349</td>\n",
       "      <td>-39.441920</td>\n",
       "      <td>183.493337</td>\n",
       "      <td>-36.680057</td>\n",
       "      <td>-79.694120</td>\n",
       "      <td>0</td>\n",
       "    </tr>\n",
       "    <tr>\n",
       "      <th>8</th>\n",
       "      <td>9</td>\n",
       "      <td>-42.547561</td>\n",
       "      <td>-144.806414</td>\n",
       "      <td>56.864835</td>\n",
       "      <td>-95.112571</td>\n",
       "      <td>55.815012</td>\n",
       "      <td>30.994533</td>\n",
       "      <td>10.739369</td>\n",
       "      <td>-53.023606</td>\n",
       "      <td>-80.888967</td>\n",
       "      <td>...</td>\n",
       "      <td>-43.431448</td>\n",
       "      <td>9.068072</td>\n",
       "      <td>-135.121926</td>\n",
       "      <td>341.669737</td>\n",
       "      <td>27.339864</td>\n",
       "      <td>-102.492365</td>\n",
       "      <td>119.226366</td>\n",
       "      <td>-12.871705</td>\n",
       "      <td>-82.028582</td>\n",
       "      <td>0</td>\n",
       "    </tr>\n",
       "    <tr>\n",
       "      <th>9</th>\n",
       "      <td>10</td>\n",
       "      <td>-37.368474</td>\n",
       "      <td>-78.407211</td>\n",
       "      <td>98.505033</td>\n",
       "      <td>118.360329</td>\n",
       "      <td>99.013203</td>\n",
       "      <td>57.520589</td>\n",
       "      <td>-8.262817</td>\n",
       "      <td>-50.428133</td>\n",
       "      <td>-117.502069</td>\n",
       "      <td>...</td>\n",
       "      <td>-68.698371</td>\n",
       "      <td>12.566891</td>\n",
       "      <td>125.967323</td>\n",
       "      <td>-31.805446</td>\n",
       "      <td>-7.892274</td>\n",
       "      <td>7.885237</td>\n",
       "      <td>144.233356</td>\n",
       "      <td>-13.811959</td>\n",
       "      <td>-82.958289</td>\n",
       "      <td>0</td>\n",
       "    </tr>\n",
       "  </tbody>\n",
       "</table>\n",
       "<p>10 rows × 22 columns</p>\n",
       "</div>"
      ],
      "text/plain": [
       "   ID  Feature_1   Feature_2   Feature_3   Feature_4   Feature_5   Feature_6  \\\n",
       "0   1 -36.963099  -15.014703   87.100435  101.523360   82.106571  -10.956180   \n",
       "1   2 -43.715674   18.847116   89.543406  -71.319314   35.597052  126.358570   \n",
       "2   3 -30.737550  -63.729643  106.081332   81.773948  112.769976  -12.425351   \n",
       "3   4 -27.674757 -118.869495  135.605213   99.130189   50.947548  -63.704785   \n",
       "4   5 -28.654141  -77.746597   85.215365   50.374774   79.763207  -32.703048   \n",
       "5   6 -38.117646  -33.507201  136.486830  110.598904   81.473220  -11.071980   \n",
       "6   7 -32.710837 -104.556238   99.556202   95.745037  122.140531  -59.949488   \n",
       "7   8 -30.299229 -115.496618  107.734218   39.097323   58.528459   52.726004   \n",
       "8   9 -42.547561 -144.806414   56.864835  -95.112571   55.815012   30.994533   \n",
       "9  10 -37.368474  -78.407211   98.505033  118.360329   99.013203   57.520589   \n",
       "\n",
       "   Feature_7  Feature_8   Feature_9  ...  Feature_12  Feature_13  Feature_14  \\\n",
       "0   0.592326 -51.919028  -90.650434  ...  -81.183744   13.101921   18.051450   \n",
       "1 -29.837495 -40.473764  -94.079238  ...  -37.848260    7.457352  -77.420742   \n",
       "2 -29.913286 -41.771200   16.424511  ... -106.610289    5.930143  -30.177083   \n",
       "3  -7.353057 -58.140229  -80.209027  ... -149.056417    3.893419  -74.100869   \n",
       "4 -28.152031 -63.994794 -153.566789  ... -102.731465   11.160205  -13.395073   \n",
       "5 -11.951786 -45.813208 -119.127127  ...    1.500816    2.695457    1.396752   \n",
       "6 -26.897662 -57.708221 -176.379515  ...  -97.535000   14.698240  -75.975937   \n",
       "7 -27.217253 -41.187358  -82.751154  ...  -82.413299    5.861742 -293.635505   \n",
       "8  10.739369 -53.023606  -80.888967  ...  -43.431448    9.068072 -135.121926   \n",
       "9  -8.262817 -50.428133 -117.502069  ...  -68.698371   12.566891  125.967323   \n",
       "\n",
       "   Feature_15  Feature_16  Feature_17  Feature_18  Feature_19  Feature_20  \\\n",
       "0  -40.606288  -39.697053  -13.870802  173.722987  -17.349169  -82.550844   \n",
       "1   53.773718 -100.124294    9.870650   11.592519 -106.123605  -92.796421   \n",
       "2 -138.969234  -56.054914  -12.790661  164.832498  -37.412902  -85.441150   \n",
       "3  -47.659832  -48.209817  -36.264323   59.001922  -59.064134  -78.538639   \n",
       "4    9.416237    2.649524  -43.578704   52.261888  -66.081738  -80.325110   \n",
       "5  -92.554534  -12.519282  -13.926158   93.605695  -66.760545  -81.819177   \n",
       "6   10.561465  -92.801302  -16.242821  238.975354  -16.785631  -84.975001   \n",
       "7  252.984181  -94.177349  -39.441920  183.493337  -36.680057  -79.694120   \n",
       "8  341.669737   27.339864 -102.492365  119.226366  -12.871705  -82.028582   \n",
       "9  -31.805446   -7.892274    7.885237  144.233356  -13.811959  -82.958289   \n",
       "\n",
       "   Class  \n",
       "0      0  \n",
       "1      1  \n",
       "2      0  \n",
       "3      0  \n",
       "4      0  \n",
       "5      0  \n",
       "6      0  \n",
       "7      0  \n",
       "8      0  \n",
       "9      0  \n",
       "\n",
       "[10 rows x 22 columns]"
      ]
     },
     "execution_count": 3,
     "metadata": {},
     "output_type": "execute_result"
    }
   ],
   "source": [
    "df.head(10)"
   ]
  },
  {
   "cell_type": "code",
   "execution_count": 4,
   "metadata": {},
   "outputs": [],
   "source": [
    "data = df.to_numpy()"
   ]
  },
  {
   "cell_type": "code",
   "execution_count": 5,
   "metadata": {},
   "outputs": [],
   "source": [
    "# load the dataset\n",
    "x_train = np.delete(data, (0,21), axis=1)\n",
    "y_train = data[:,21]"
   ]
  },
  {
   "cell_type": "code",
   "execution_count": 6,
   "metadata": {},
   "outputs": [
    {
     "name": "stdout",
     "output_type": "stream",
     "text": [
      "The shape of x_train is: (48000, 20)\n",
      "The shape of y_train is:  (48000,)\n",
      "Number of training examples (m): 48000\n"
     ]
    }
   ],
   "source": [
    "print ('The shape of x_train is:', x_train.shape)\n",
    "print ('The shape of y_train is: ', y_train.shape)\n",
    "print ('Number of training examples (m):', len(x_train))"
   ]
  },
  {
   "cell_type": "code",
   "execution_count": 7,
   "metadata": {},
   "outputs": [
    {
     "name": "stdout",
     "output_type": "stream",
     "text": [
      "mean_train = [ -32.71008045  -86.99950399   91.67256276  -47.08671198   87.38126899\n",
      "   62.29779296  -18.81382457  -39.53794844 -134.50532456   25.60541892\n",
      "   -3.51899481  -61.83448724    9.77847641  -59.38830132  142.52337729\n",
      "  -25.52185829  -35.46949851  111.85355218  -54.25896532  -83.72139522], \n",
      "sigma = [  4.68295764  45.56939893  38.99926358 103.62430049  27.22565466\n",
      " 100.71276901  18.04219583   9.90442848  56.12416267  43.8744648\n",
      "  27.93563876  45.12487707   5.52507649 106.31458318 151.67116893\n",
      "  51.72052642  47.13093648  71.64007899  30.42637274   4.4871524 ]\n",
      "Peak to Peak range by column in Raw_x:[  39.64725302  355.2507151   313.49416347  721.94723076  232.02552642\n",
      "  697.89296604  162.33261962   82.47714251  473.17914283  413.33372187\n",
      "  224.99076253  383.37534505   50.45563774  731.35421471 1213.55061156\n",
      "  435.96818813  310.91947036  578.4643157   239.73705833   37.60389456]\n",
      "Peak to Peak range by column in Normalized_x:[8.46628479 7.79581744 8.03846367 6.96696844 8.52231211 6.92953806\n",
      " 8.99738708 8.32729952 8.43093456 9.42082653 8.05389719 8.49587567\n",
      " 9.1321157  6.87915235 8.00119509 8.42930686 6.59692961 8.0745907\n",
      " 7.879252   8.38034709]\n"
     ]
    }
   ],
   "source": [
    "# normalize the original features\n",
    "x_norm , mean_train , sigma_train =z_score_normalization_train(x_train)\n",
    "print(f\"mean_train = {mean_train}, \\nsigma = {sigma_train}\")\n",
    "print(f\"Peak to Peak range by column in Raw_x:{np.ptp(x_train,axis=0)}\")   \n",
    "print(f\"Peak to Peak range by column in Normalized_x:{np.ptp(x_norm,axis=0)}\")"
   ]
  },
  {
   "cell_type": "code",
   "execution_count": null,
   "metadata": {},
   "outputs": [
    {
     "name": "stdout",
     "output_type": "stream",
     "text": [
      "Iteration 0: Cost 1.41\n",
      "Iteration 1000: Cost 1.40\n",
      "Iteration 2000: Cost 1.40\n",
      "Iteration 3000: Cost 1.39\n",
      "Iteration 4000: Cost 1.38\n"
     ]
    }
   ],
   "source": [
    "np.random.seed(1)\n",
    "initial_w = np.random.rand(x_norm.shape[1])\n",
    "initial_b = np.random.rand()\n",
    "\n",
    "# Some gradient descent settings\n",
    "iterations = 10000\n",
    "alpha = 0.00001\n",
    "\n",
    "w,b, J_history,_ = gradient_descent(x_norm ,y_train, initial_w, initial_b, compute_cost, compute_gradient, alpha, iterations)"
   ]
  },
  {
   "cell_type": "code",
   "execution_count": 9,
   "metadata": {},
   "outputs": [],
   "source": [
    "x_trail = x_norm[(1,2,4),:]"
   ]
  },
  {
   "cell_type": "code",
   "execution_count": null,
   "metadata": {},
   "outputs": [],
   "source": [
    "x_trail"
   ]
  },
  {
   "cell_type": "code",
   "execution_count": null,
   "metadata": {},
   "outputs": [],
   "source": [
    "predict(x_trail, w, b)"
   ]
  },
  {
   "cell_type": "markdown",
   "metadata": {},
   "source": [
    "TESTING"
   ]
  },
  {
   "cell_type": "code",
   "execution_count": null,
   "metadata": {},
   "outputs": [],
   "source": [
    "file_path = r\"C:\\Users\\Aditya Jain\\OneDrive - Indian Institute of Technology Indian School of Mines Dhanbad\\WOC\\Logistic_regression\\binary_classification_test.csv\"\n",
    "\n",
    "df = pd.read_csv(file_path)\n",
    "\n",
    "print(df.head())\n",
    "df.shape"
   ]
  },
  {
   "cell_type": "code",
   "execution_count": null,
   "metadata": {},
   "outputs": [],
   "source": [
    "df.head(10)"
   ]
  },
  {
   "cell_type": "code",
   "execution_count": 14,
   "metadata": {},
   "outputs": [],
   "source": [
    "data = df.to_numpy()"
   ]
  },
  {
   "cell_type": "code",
   "execution_count": null,
   "metadata": {},
   "outputs": [],
   "source": [
    "# load the dataset\n",
    "x_test = np.delete(data, (0), axis=1)\n",
    "print ('The shape of x_test is:', x_test.shape)\n",
    "print ('Number of testing examples (m):', len(x_test))"
   ]
  },
  {
   "cell_type": "code",
   "execution_count": null,
   "metadata": {},
   "outputs": [],
   "source": [
    "#normalize the original features\n",
    "print(f\"mean_train = {mean_train}, \\nsigma = {sigma_train}\")\n",
    "x_norm =z_score_normalization_test(x_test,mean_train,sigma_train)\n",
    "print(f\"Peak to Peak range by column in Raw_x:{np.ptp(x_test,axis=0)}\")   \n",
    "print(f\"Peak to Peak range by column in Normalized_x:{np.ptp(x_norm,axis=0)}\")"
   ]
  },
  {
   "cell_type": "code",
   "execution_count": 17,
   "metadata": {},
   "outputs": [],
   "source": [
    "x_trail = x_norm[(1,2,4),:]"
   ]
  },
  {
   "cell_type": "code",
   "execution_count": null,
   "metadata": {},
   "outputs": [],
   "source": [
    "predict(x_trail, w, b)"
   ]
  },
  {
   "cell_type": "code",
   "execution_count": null,
   "metadata": {},
   "outputs": [],
   "source": []
  },
  {
   "cell_type": "code",
   "execution_count": null,
   "metadata": {},
   "outputs": [],
   "source": []
  },
  {
   "cell_type": "code",
   "execution_count": null,
   "metadata": {},
   "outputs": [],
   "source": []
  }
 ],
 "metadata": {
  "kernelspec": {
   "display_name": "Python 3",
   "language": "python",
   "name": "python3"
  },
  "language_info": {
   "codemirror_mode": {
    "name": "ipython",
    "version": 3
   },
   "file_extension": ".py",
   "mimetype": "text/x-python",
   "name": "python",
   "nbconvert_exporter": "python",
   "pygments_lexer": "ipython3",
   "version": "3.11.9"
  }
 },
 "nbformat": 4,
 "nbformat_minor": 2
}
