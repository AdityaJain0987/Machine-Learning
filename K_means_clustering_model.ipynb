{
 "cells": [
  {
   "cell_type": "code",
   "execution_count": 1,
   "metadata": {},
   "outputs": [
    {
     "name": "stdout",
     "output_type": "stream",
     "text": [
      "   ID  Feature_1  Feature_2  Feature_3  Feature_4  Feature_5  Feature_6\n",
      "0   1 -21.904591 -22.659091  12.805995 -46.631935 -34.347081 -21.989738\n",
      "1   2 -28.662385  68.757081  31.761821   3.982259 -62.876866 -61.838563\n",
      "2   3 -62.551204  60.909235   8.112918  24.110050 -64.372336  70.681940\n",
      "3   4  14.428024 -48.326045 -65.576518  76.027549  69.966852  48.023953\n",
      "4   5   9.780285 -55.643172 -72.737299  74.180123  67.873327  41.128015\n"
     ]
    },
    {
     "data": {
      "text/plain": [
       "(549, 7)"
      ]
     },
     "execution_count": 1,
     "metadata": {},
     "output_type": "execute_result"
    }
   ],
   "source": [
    "import numpy as np\n",
    "import pandas as pd\n",
    "import matplotlib.pyplot as plt\n",
    "from K_means_clustering_lib import *\n",
    "\n",
    "\n",
    "file_path = r\"C:\\Users\\Aditya Jain\\OneDrive - Indian Institute of Technology Indian School of Mines Dhanbad\\WOC\\K-means_clustering\\unsupervised_data_trail.csv\"\n",
    "\n",
    "df = pd.read_csv(file_path)\n",
    "\n",
    "print(df.head())\n",
    "df.shape"
   ]
  },
  {
   "cell_type": "code",
   "execution_count": 2,
   "metadata": {},
   "outputs": [],
   "source": [
    "data = df.to_numpy()"
   ]
  },
  {
   "cell_type": "code",
   "execution_count": 3,
   "metadata": {},
   "outputs": [
    {
     "name": "stdout",
     "output_type": "stream",
     "text": [
      "(549, 6)\n",
      "[-21.90459052 -22.65909077  12.80599532 -46.63193454 -34.34708058\n",
      " -21.98973763]\n"
     ]
    }
   ],
   "source": [
    "x = np.delete(data, 0, axis=1)\n",
    "print(x.shape)\n",
    "print(x[0,:])"
   ]
  },
  {
   "cell_type": "code",
   "execution_count": 4,
   "metadata": {},
   "outputs": [],
   "source": [
    "no_examples = x.shape[0]\n",
    "k = 3   # number_of_ckusters"
   ]
  },
  {
   "cell_type": "code",
   "execution_count": 5,
   "metadata": {},
   "outputs": [],
   "source": [
    "random_indices = random_indices(no_examples, k) "
   ]
  },
  {
   "cell_type": "code",
   "execution_count": 6,
   "metadata": {},
   "outputs": [
    {
     "name": "stdout",
     "output_type": "stream",
     "text": [
      "[[-21.90459052 -22.65909077  12.80599532 -46.63193454 -34.34708058\n",
      "  -21.98973763]\n",
      " [-28.6623852   68.7570811   31.76182149   3.98225897 -62.87686557\n",
      "  -61.83856263]\n",
      " [-62.55120406  60.90923463   8.11291761  24.1100498  -64.37233589\n",
      "   70.68194042]\n",
      " ...\n",
      " [ 38.12730675 -57.31425253 -53.12390435 -47.32985974 -33.76280407\n",
      "    8.05371213]\n",
      " [-16.67793625  46.97542848 -47.46578322   3.24381072  -0.23872754\n",
      "  -78.83892084]\n",
      " [-17.53586547 -38.85313376  26.78062541 -39.3936984  -26.14319027\n",
      "  -22.52744066]]\n"
     ]
    },
    {
     "ename": "IndexError",
     "evalue": "index 1 is out of bounds for axis 0 with size 1",
     "output_type": "error",
     "traceback": [
      "\u001b[1;31m---------------------------------------------------------------------------\u001b[0m",
      "\u001b[1;31mIndexError\u001b[0m                                Traceback (most recent call last)",
      "Cell \u001b[1;32mIn[6], line 1\u001b[0m\n\u001b[1;32m----> 1\u001b[0m initial_centroid \u001b[38;5;241m=\u001b[39m (\u001b[43minitial__centroid\u001b[49m\u001b[43m(\u001b[49m\u001b[43mx\u001b[49m\u001b[43m,\u001b[49m\u001b[43mk\u001b[49m\u001b[43m,\u001b[49m\u001b[43mrandom_indices\u001b[49m\u001b[43m)\u001b[49m)\n\u001b[0;32m      2\u001b[0m \u001b[38;5;28mprint\u001b[39m(initial_centroid\u001b[38;5;241m.\u001b[39mshape)\n\u001b[0;32m      4\u001b[0m initial_centroid_3d \u001b[38;5;241m=\u001b[39m initial_centroid\u001b[38;5;241m.\u001b[39mreshape(\u001b[38;5;241m1\u001b[39m,\u001b[38;5;241m6\u001b[39m,\u001b[38;5;241m3\u001b[39m)\n",
      "File \u001b[1;32mc:\\Users\\Aditya Jain\\OneDrive - Indian Institute of Technology Indian School of Mines Dhanbad\\WOC\\K-means_clustering\\K_means_clustering_lib.py:20\u001b[0m, in \u001b[0;36minitial__centroid\u001b[1;34m(x, k, random_indices)\u001b[0m\n\u001b[0;32m     18\u001b[0m x_reshaped \u001b[38;5;241m=\u001b[39m x[:, :, np\u001b[38;5;241m.\u001b[39mnewaxis]  \u001b[38;5;66;03m# Shape becomes (549, 6, 1)\u001b[39;00m\n\u001b[0;32m     19\u001b[0m \u001b[38;5;28;01mfor\u001b[39;00m i \u001b[38;5;129;01min\u001b[39;00m \u001b[38;5;28mrange\u001b[39m(\u001b[38;5;241m100\u001b[39m):\n\u001b[1;32m---> 20\u001b[0m     p \u001b[38;5;241m=\u001b[39m \u001b[43minitial_centroid\u001b[49m\u001b[43m[\u001b[49m\u001b[43mi\u001b[49m\u001b[43m]\u001b[49m\n\u001b[0;32m     21\u001b[0m     \u001b[38;5;28mprint\u001b[39m(p)\n",
      "\u001b[1;31mIndexError\u001b[0m: index 1 is out of bounds for axis 0 with size 1"
     ]
    }
   ],
   "source": [
    "initial_centroid = (initial__centroid(x,k,random_indices))\n",
    "print(initial_centroid.shape)\n",
    "\n",
    "initial_centroid_3d = initial_centroid.reshape(1,6,3)"
   ]
  },
  {
   "cell_type": "code",
   "execution_count": null,
   "metadata": {},
   "outputs": [],
   "source": [
    "x_reshaped = x[:, :, np.newaxis]\n",
    "print(x_reshaped.shape)"
   ]
  },
  {
   "cell_type": "code",
   "execution_count": null,
   "metadata": {},
   "outputs": [],
   "source": [
    "centroid_index, _ =cluster(initial_centroid_3d,x_reshaped)"
   ]
  },
  {
   "cell_type": "code",
   "execution_count": null,
   "metadata": {},
   "outputs": [],
   "source": [
    "centroid=centroid_corrector(x,centroid_index, initial_centroid.T)\n",
    "print(centroid)"
   ]
  },
  {
   "cell_type": "code",
   "execution_count": null,
   "metadata": {},
   "outputs": [],
   "source": []
  },
  {
   "cell_type": "code",
   "execution_count": null,
   "metadata": {},
   "outputs": [],
   "source": []
  },
  {
   "cell_type": "code",
   "execution_count": null,
   "metadata": {},
   "outputs": [],
   "source": []
  }
 ],
 "metadata": {
  "kernelspec": {
   "display_name": "Python 3",
   "language": "python",
   "name": "python3"
  },
  "language_info": {
   "codemirror_mode": {
    "name": "ipython",
    "version": 3
   },
   "file_extension": ".py",
   "mimetype": "text/x-python",
   "name": "python",
   "nbconvert_exporter": "python",
   "pygments_lexer": "ipython3",
   "version": "3.11.9"
  }
 },
 "nbformat": 4,
 "nbformat_minor": 2
}
