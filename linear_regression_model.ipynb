{
 "cells": [
  {
   "cell_type": "code",
   "execution_count": 1,
   "metadata": {},
   "outputs": [
    {
     "name": "stdout",
     "output_type": "stream",
     "text": [
      "   ID  Feature_1  Feature_2  Feature_3   Feature_4  Feature_5  Feature_6  \\\n",
      "0   1 -10.429837  21.684251  93.056324  128.914740   1.657315 -34.602633   \n",
      "1   2  12.475081  11.652011 -47.621889  -21.892583 -25.844861 -46.951253   \n",
      "2   3   7.696188  24.729547  43.782383  -53.282523 -69.145794 -57.072335   \n",
      "3   4   6.505033  22.092605 -25.161422    4.742729 -20.344550 -50.248793   \n",
      "4   5   5.906445  19.909180  24.705865  -51.875251 -24.857500 -25.879977   \n",
      "\n",
      "    Feature_7   Feature_8   Feature_9  ...  Feature_17  Feature_18  \\\n",
      "0  -70.314374  -89.585318  -98.465642  ...  -99.322780   19.560135   \n",
      "1 -114.500805  -96.257473 -138.354981  ...  -89.763107   -8.250307   \n",
      "2 -114.149171 -105.408739  -71.892560  ...   -3.859655  -17.301240   \n",
      "3  -89.324731 -104.002016 -160.103875  ...   48.557507   -1.997502   \n",
      "4  -37.787560  -99.587673  -47.929647  ...    3.556973  -26.643253   \n",
      "\n",
      "   Feature_19  Feature_20  Feature_21  Feature_22  Feature_23  Feature_24  \\\n",
      "0   25.568291  -40.876179 -116.146068  -82.181299  -99.423518  -41.150654   \n",
      "1   -8.798353  -23.452091  -56.769063  -26.722372  -97.694304   13.816113   \n",
      "2   -1.622924  -39.351214  -73.973949  -33.844638 -100.874861  -38.895598   \n",
      "3   -0.856194  -34.259923   -3.113819   13.398035  -94.899866  -77.051331   \n",
      "4   -0.976567  -44.127974  -44.249542   -6.166813  -97.099111   -5.426910   \n",
      "\n",
      "   Feature_25       Target  \n",
      "0  113.117197  5235.690928  \n",
      "1    8.711894 -1221.442146  \n",
      "2   34.488334 -1102.758862  \n",
      "3  -16.014027   437.940266  \n",
      "4  -42.191157   755.825367  \n",
      "\n",
      "[5 rows x 27 columns]\n"
     ]
    },
    {
     "data": {
      "text/plain": [
       "(48000, 27)"
      ]
     },
     "execution_count": 1,
     "metadata": {},
     "output_type": "execute_result"
    }
   ],
   "source": [
    "import numpy as np\n",
    "import pandas as pd\n",
    "import matplotlib.pyplot as plt\n",
    "from linear_regression_lib import *\n",
    "\n",
    "\n",
    "file_path = r\"C:\\Users\\Aditya Jain\\OneDrive - Indian Institute of Technology Indian School of Mines Dhanbad\\WOC\\Linear_regression\\linear_regression_train.csv\"\n",
    "df = pd.read_csv(file_path)\n",
    "\n",
    "print(df.head())\n",
    "df.shape"
   ]
  },
  {
   "cell_type": "markdown",
   "metadata": {},
   "source": [
    "TRAINING"
   ]
  },
  {
   "cell_type": "code",
   "execution_count": 2,
   "metadata": {},
   "outputs": [
    {
     "data": {
      "text/html": [
       "<div>\n",
       "<style scoped>\n",
       "    .dataframe tbody tr th:only-of-type {\n",
       "        vertical-align: middle;\n",
       "    }\n",
       "\n",
       "    .dataframe tbody tr th {\n",
       "        vertical-align: top;\n",
       "    }\n",
       "\n",
       "    .dataframe thead th {\n",
       "        text-align: right;\n",
       "    }\n",
       "</style>\n",
       "<table border=\"1\" class=\"dataframe\">\n",
       "  <thead>\n",
       "    <tr style=\"text-align: right;\">\n",
       "      <th></th>\n",
       "      <th>ID</th>\n",
       "      <th>Feature_1</th>\n",
       "      <th>Feature_2</th>\n",
       "      <th>Feature_3</th>\n",
       "      <th>Feature_4</th>\n",
       "      <th>Feature_5</th>\n",
       "      <th>Feature_6</th>\n",
       "      <th>Feature_7</th>\n",
       "      <th>Feature_8</th>\n",
       "      <th>Feature_9</th>\n",
       "      <th>...</th>\n",
       "      <th>Feature_17</th>\n",
       "      <th>Feature_18</th>\n",
       "      <th>Feature_19</th>\n",
       "      <th>Feature_20</th>\n",
       "      <th>Feature_21</th>\n",
       "      <th>Feature_22</th>\n",
       "      <th>Feature_23</th>\n",
       "      <th>Feature_24</th>\n",
       "      <th>Feature_25</th>\n",
       "      <th>Target</th>\n",
       "    </tr>\n",
       "  </thead>\n",
       "  <tbody>\n",
       "    <tr>\n",
       "      <th>0</th>\n",
       "      <td>1</td>\n",
       "      <td>-10.429837</td>\n",
       "      <td>21.684251</td>\n",
       "      <td>93.056324</td>\n",
       "      <td>128.914740</td>\n",
       "      <td>1.657315</td>\n",
       "      <td>-34.602633</td>\n",
       "      <td>-70.314374</td>\n",
       "      <td>-89.585318</td>\n",
       "      <td>-98.465642</td>\n",
       "      <td>...</td>\n",
       "      <td>-99.322780</td>\n",
       "      <td>19.560135</td>\n",
       "      <td>25.568291</td>\n",
       "      <td>-40.876179</td>\n",
       "      <td>-116.146068</td>\n",
       "      <td>-82.181299</td>\n",
       "      <td>-99.423518</td>\n",
       "      <td>-41.150654</td>\n",
       "      <td>113.117197</td>\n",
       "      <td>5235.690928</td>\n",
       "    </tr>\n",
       "    <tr>\n",
       "      <th>1</th>\n",
       "      <td>2</td>\n",
       "      <td>12.475081</td>\n",
       "      <td>11.652011</td>\n",
       "      <td>-47.621889</td>\n",
       "      <td>-21.892583</td>\n",
       "      <td>-25.844861</td>\n",
       "      <td>-46.951253</td>\n",
       "      <td>-114.500805</td>\n",
       "      <td>-96.257473</td>\n",
       "      <td>-138.354981</td>\n",
       "      <td>...</td>\n",
       "      <td>-89.763107</td>\n",
       "      <td>-8.250307</td>\n",
       "      <td>-8.798353</td>\n",
       "      <td>-23.452091</td>\n",
       "      <td>-56.769063</td>\n",
       "      <td>-26.722372</td>\n",
       "      <td>-97.694304</td>\n",
       "      <td>13.816113</td>\n",
       "      <td>8.711894</td>\n",
       "      <td>-1221.442146</td>\n",
       "    </tr>\n",
       "    <tr>\n",
       "      <th>2</th>\n",
       "      <td>3</td>\n",
       "      <td>7.696188</td>\n",
       "      <td>24.729547</td>\n",
       "      <td>43.782383</td>\n",
       "      <td>-53.282523</td>\n",
       "      <td>-69.145794</td>\n",
       "      <td>-57.072335</td>\n",
       "      <td>-114.149171</td>\n",
       "      <td>-105.408739</td>\n",
       "      <td>-71.892560</td>\n",
       "      <td>...</td>\n",
       "      <td>-3.859655</td>\n",
       "      <td>-17.301240</td>\n",
       "      <td>-1.622924</td>\n",
       "      <td>-39.351214</td>\n",
       "      <td>-73.973949</td>\n",
       "      <td>-33.844638</td>\n",
       "      <td>-100.874861</td>\n",
       "      <td>-38.895598</td>\n",
       "      <td>34.488334</td>\n",
       "      <td>-1102.758862</td>\n",
       "    </tr>\n",
       "    <tr>\n",
       "      <th>3</th>\n",
       "      <td>4</td>\n",
       "      <td>6.505033</td>\n",
       "      <td>22.092605</td>\n",
       "      <td>-25.161422</td>\n",
       "      <td>4.742729</td>\n",
       "      <td>-20.344550</td>\n",
       "      <td>-50.248793</td>\n",
       "      <td>-89.324731</td>\n",
       "      <td>-104.002016</td>\n",
       "      <td>-160.103875</td>\n",
       "      <td>...</td>\n",
       "      <td>48.557507</td>\n",
       "      <td>-1.997502</td>\n",
       "      <td>-0.856194</td>\n",
       "      <td>-34.259923</td>\n",
       "      <td>-3.113819</td>\n",
       "      <td>13.398035</td>\n",
       "      <td>-94.899866</td>\n",
       "      <td>-77.051331</td>\n",
       "      <td>-16.014027</td>\n",
       "      <td>437.940266</td>\n",
       "    </tr>\n",
       "    <tr>\n",
       "      <th>4</th>\n",
       "      <td>5</td>\n",
       "      <td>5.906445</td>\n",
       "      <td>19.909180</td>\n",
       "      <td>24.705865</td>\n",
       "      <td>-51.875251</td>\n",
       "      <td>-24.857500</td>\n",
       "      <td>-25.879977</td>\n",
       "      <td>-37.787560</td>\n",
       "      <td>-99.587673</td>\n",
       "      <td>-47.929647</td>\n",
       "      <td>...</td>\n",
       "      <td>3.556973</td>\n",
       "      <td>-26.643253</td>\n",
       "      <td>-0.976567</td>\n",
       "      <td>-44.127974</td>\n",
       "      <td>-44.249542</td>\n",
       "      <td>-6.166813</td>\n",
       "      <td>-97.099111</td>\n",
       "      <td>-5.426910</td>\n",
       "      <td>-42.191157</td>\n",
       "      <td>755.825367</td>\n",
       "    </tr>\n",
       "    <tr>\n",
       "      <th>5</th>\n",
       "      <td>6</td>\n",
       "      <td>-6.705940</td>\n",
       "      <td>17.285717</td>\n",
       "      <td>11.228360</td>\n",
       "      <td>-22.003871</td>\n",
       "      <td>-33.426409</td>\n",
       "      <td>-50.557009</td>\n",
       "      <td>-115.546686</td>\n",
       "      <td>-91.623443</td>\n",
       "      <td>-97.288813</td>\n",
       "      <td>...</td>\n",
       "      <td>-127.481255</td>\n",
       "      <td>60.250423</td>\n",
       "      <td>10.780333</td>\n",
       "      <td>-14.582924</td>\n",
       "      <td>-114.710822</td>\n",
       "      <td>-18.419053</td>\n",
       "      <td>-99.372781</td>\n",
       "      <td>-77.628845</td>\n",
       "      <td>27.234914</td>\n",
       "      <td>1514.257524</td>\n",
       "    </tr>\n",
       "    <tr>\n",
       "      <th>6</th>\n",
       "      <td>7</td>\n",
       "      <td>10.127642</td>\n",
       "      <td>18.855554</td>\n",
       "      <td>92.002934</td>\n",
       "      <td>8.958044</td>\n",
       "      <td>-33.184772</td>\n",
       "      <td>-37.351707</td>\n",
       "      <td>-69.815254</td>\n",
       "      <td>-87.671397</td>\n",
       "      <td>-85.127954</td>\n",
       "      <td>...</td>\n",
       "      <td>-41.841576</td>\n",
       "      <td>50.091017</td>\n",
       "      <td>19.919902</td>\n",
       "      <td>-15.442881</td>\n",
       "      <td>-92.192405</td>\n",
       "      <td>24.509213</td>\n",
       "      <td>-98.719969</td>\n",
       "      <td>20.077431</td>\n",
       "      <td>29.331134</td>\n",
       "      <td>6158.761390</td>\n",
       "    </tr>\n",
       "    <tr>\n",
       "      <th>7</th>\n",
       "      <td>8</td>\n",
       "      <td>-3.581303</td>\n",
       "      <td>22.961847</td>\n",
       "      <td>52.021685</td>\n",
       "      <td>-53.605500</td>\n",
       "      <td>-23.310877</td>\n",
       "      <td>-49.847391</td>\n",
       "      <td>-95.594884</td>\n",
       "      <td>-89.324833</td>\n",
       "      <td>-111.764670</td>\n",
       "      <td>...</td>\n",
       "      <td>-15.300284</td>\n",
       "      <td>34.340230</td>\n",
       "      <td>6.985084</td>\n",
       "      <td>-28.319734</td>\n",
       "      <td>-152.123534</td>\n",
       "      <td>-27.159077</td>\n",
       "      <td>-103.020575</td>\n",
       "      <td>-17.753933</td>\n",
       "      <td>-42.182246</td>\n",
       "      <td>65.794312</td>\n",
       "    </tr>\n",
       "    <tr>\n",
       "      <th>8</th>\n",
       "      <td>9</td>\n",
       "      <td>-10.873937</td>\n",
       "      <td>28.213741</td>\n",
       "      <td>63.504006</td>\n",
       "      <td>5.317177</td>\n",
       "      <td>-16.779461</td>\n",
       "      <td>-30.958073</td>\n",
       "      <td>-82.661112</td>\n",
       "      <td>-94.027843</td>\n",
       "      <td>-169.541589</td>\n",
       "      <td>...</td>\n",
       "      <td>-73.634914</td>\n",
       "      <td>17.401729</td>\n",
       "      <td>6.780610</td>\n",
       "      <td>-44.815840</td>\n",
       "      <td>-95.024467</td>\n",
       "      <td>-24.850915</td>\n",
       "      <td>-102.208350</td>\n",
       "      <td>1.041028</td>\n",
       "      <td>39.670422</td>\n",
       "      <td>-398.214246</td>\n",
       "    </tr>\n",
       "    <tr>\n",
       "      <th>9</th>\n",
       "      <td>10</td>\n",
       "      <td>17.280150</td>\n",
       "      <td>18.070293</td>\n",
       "      <td>40.894441</td>\n",
       "      <td>6.333974</td>\n",
       "      <td>-44.635707</td>\n",
       "      <td>-47.774155</td>\n",
       "      <td>-134.439751</td>\n",
       "      <td>-87.186261</td>\n",
       "      <td>-102.475635</td>\n",
       "      <td>...</td>\n",
       "      <td>-113.693370</td>\n",
       "      <td>-41.529865</td>\n",
       "      <td>-19.345166</td>\n",
       "      <td>-46.892483</td>\n",
       "      <td>-154.956370</td>\n",
       "      <td>-43.716668</td>\n",
       "      <td>-96.872030</td>\n",
       "      <td>-0.039124</td>\n",
       "      <td>-10.632835</td>\n",
       "      <td>-887.330060</td>\n",
       "    </tr>\n",
       "  </tbody>\n",
       "</table>\n",
       "<p>10 rows × 27 columns</p>\n",
       "</div>"
      ],
      "text/plain": [
       "   ID  Feature_1  Feature_2  Feature_3   Feature_4  Feature_5  Feature_6  \\\n",
       "0   1 -10.429837  21.684251  93.056324  128.914740   1.657315 -34.602633   \n",
       "1   2  12.475081  11.652011 -47.621889  -21.892583 -25.844861 -46.951253   \n",
       "2   3   7.696188  24.729547  43.782383  -53.282523 -69.145794 -57.072335   \n",
       "3   4   6.505033  22.092605 -25.161422    4.742729 -20.344550 -50.248793   \n",
       "4   5   5.906445  19.909180  24.705865  -51.875251 -24.857500 -25.879977   \n",
       "5   6  -6.705940  17.285717  11.228360  -22.003871 -33.426409 -50.557009   \n",
       "6   7  10.127642  18.855554  92.002934    8.958044 -33.184772 -37.351707   \n",
       "7   8  -3.581303  22.961847  52.021685  -53.605500 -23.310877 -49.847391   \n",
       "8   9 -10.873937  28.213741  63.504006    5.317177 -16.779461 -30.958073   \n",
       "9  10  17.280150  18.070293  40.894441    6.333974 -44.635707 -47.774155   \n",
       "\n",
       "    Feature_7   Feature_8   Feature_9  ...  Feature_17  Feature_18  \\\n",
       "0  -70.314374  -89.585318  -98.465642  ...  -99.322780   19.560135   \n",
       "1 -114.500805  -96.257473 -138.354981  ...  -89.763107   -8.250307   \n",
       "2 -114.149171 -105.408739  -71.892560  ...   -3.859655  -17.301240   \n",
       "3  -89.324731 -104.002016 -160.103875  ...   48.557507   -1.997502   \n",
       "4  -37.787560  -99.587673  -47.929647  ...    3.556973  -26.643253   \n",
       "5 -115.546686  -91.623443  -97.288813  ... -127.481255   60.250423   \n",
       "6  -69.815254  -87.671397  -85.127954  ...  -41.841576   50.091017   \n",
       "7  -95.594884  -89.324833 -111.764670  ...  -15.300284   34.340230   \n",
       "8  -82.661112  -94.027843 -169.541589  ...  -73.634914   17.401729   \n",
       "9 -134.439751  -87.186261 -102.475635  ... -113.693370  -41.529865   \n",
       "\n",
       "   Feature_19  Feature_20  Feature_21  Feature_22  Feature_23  Feature_24  \\\n",
       "0   25.568291  -40.876179 -116.146068  -82.181299  -99.423518  -41.150654   \n",
       "1   -8.798353  -23.452091  -56.769063  -26.722372  -97.694304   13.816113   \n",
       "2   -1.622924  -39.351214  -73.973949  -33.844638 -100.874861  -38.895598   \n",
       "3   -0.856194  -34.259923   -3.113819   13.398035  -94.899866  -77.051331   \n",
       "4   -0.976567  -44.127974  -44.249542   -6.166813  -97.099111   -5.426910   \n",
       "5   10.780333  -14.582924 -114.710822  -18.419053  -99.372781  -77.628845   \n",
       "6   19.919902  -15.442881  -92.192405   24.509213  -98.719969   20.077431   \n",
       "7    6.985084  -28.319734 -152.123534  -27.159077 -103.020575  -17.753933   \n",
       "8    6.780610  -44.815840  -95.024467  -24.850915 -102.208350    1.041028   \n",
       "9  -19.345166  -46.892483 -154.956370  -43.716668  -96.872030   -0.039124   \n",
       "\n",
       "   Feature_25       Target  \n",
       "0  113.117197  5235.690928  \n",
       "1    8.711894 -1221.442146  \n",
       "2   34.488334 -1102.758862  \n",
       "3  -16.014027   437.940266  \n",
       "4  -42.191157   755.825367  \n",
       "5   27.234914  1514.257524  \n",
       "6   29.331134  6158.761390  \n",
       "7  -42.182246    65.794312  \n",
       "8   39.670422  -398.214246  \n",
       "9  -10.632835  -887.330060  \n",
       "\n",
       "[10 rows x 27 columns]"
      ]
     },
     "execution_count": 2,
     "metadata": {},
     "output_type": "execute_result"
    }
   ],
   "source": [
    "df.head(10)"
   ]
  },
  {
   "cell_type": "code",
   "execution_count": 3,
   "metadata": {},
   "outputs": [],
   "source": [
    "data = df.to_numpy()"
   ]
  },
  {
   "cell_type": "code",
   "execution_count": 4,
   "metadata": {},
   "outputs": [],
   "source": [
    "# load the dataset\n",
    "x_train = np.delete(data, (26,0), axis=1)\n",
    "y_train = data[:,26]"
   ]
  },
  {
   "cell_type": "code",
   "execution_count": 5,
   "metadata": {},
   "outputs": [
    {
     "name": "stdout",
     "output_type": "stream",
     "text": [
      "The shape of x_train is: (48000, 25)\n",
      "The shape of y_train is:  (48000,)\n",
      "Number of training examples (m): 48000\n"
     ]
    }
   ],
   "source": [
    "print ('The shape of x_train is:', x_train.shape)\n",
    "print ('The shape of y_train is: ', y_train.shape)\n",
    "print ('Number of training examples (m):', len(x_train))"
   ]
  },
  {
   "cell_type": "code",
   "execution_count": 6,
   "metadata": {},
   "outputs": [
    {
     "data": {
      "image/png": "[encoded data removed]",
      "text/plain": [
       "<Figure size 640x480 with 1 Axes>"
      ]
     },
     "metadata": {},
     "output_type": "display_data"
    }
   ],
   "source": [
    "#rough \n",
    "plt.plot(x_train,y_train,'g.-')\n",
    "plt.show()"
   ]
  },
  {
   "cell_type": "code",
   "execution_count": 7,
   "metadata": {},
   "outputs": [
    {
     "name": "stdout",
     "output_type": "stream",
     "text": [
      "mean_train = [  5.98216757  20.23480577  43.57326924 -21.89395621 -30.82121794\n",
      " -39.59033502 -89.5158562  -90.58278692 -95.10274371  58.82749388\n",
      " -33.75737294 -48.80469679 -72.21501673  97.95906386  45.37714497\n",
      " -30.21046175 -43.27055654   0.99929249   1.15340197 -33.11865985\n",
      " -90.45930275 -23.93663492 -98.39619842 -22.04435266  17.57734085], \n",
      "sigma = [ 9.6618349   5.72578895 43.45587562 39.80383536 15.32448382 16.58421424\n",
      " 34.70887075 11.55854764 40.3514498  34.17735588 42.89064304 33.39406381\n",
      " 30.7871623  12.64864994 16.46782913 19.34078952 47.16504752 33.57089672\n",
      " 13.42497096 15.13171291 32.95129767 27.43953339  4.60959023 40.48207948\n",
      " 42.04122071]\n",
      "Peak to Peak range by column in Raw_x:[ 73.78546151  44.73675544 346.42548879 342.0671237  135.98301418\n",
      " 142.41987234 316.08403363  99.24126015 317.17228938 312.19341458\n",
      " 350.31971962 268.41659156 270.90492818 108.87414784 142.73504472\n",
      " 171.10663661 391.05884954 270.7420612  106.42394612 123.64343007\n",
      " 276.64183623 222.54207803  34.62704654 321.28214303 377.37268133]\n",
      "Peak to Peak range by column in Normalized_x:[7.63679594 7.8132037  7.97189066 8.5938232  8.87357876 8.58767683\n",
      " 9.10672191 8.58596281 7.86024519 9.13451045 8.1677423  8.03785347\n",
      " 8.79928216 8.60757064 8.66750824 8.84693132 8.29128497 8.06478491\n",
      " 7.92731295 8.17114565 8.39547623 8.11027195 7.51195763 7.93640414\n",
      " 8.97625414]\n"
     ]
    }
   ],
   "source": [
    "# normalize the original features\n",
    "x_norm , mean_train , sigma_train =z_score_normalization_train(x_train)\n",
    "print(f\"mean_train = {mean_train}, \\nsigma = {sigma_train}\")\n",
    "print(f\"Peak to Peak range by column in Raw_x:{np.ptp(x_train,axis=0)}\")   \n",
    "print(f\"Peak to Peak range by column in Normalized_x:{np.ptp(x_norm,axis=0)}\")"
   ]
  },
  {
   "cell_type": "code",
   "execution_count": 8,
   "metadata": {},
   "outputs": [],
   "source": [
    "np.random.seed(1)\n",
    "w = np.random.rand(x_train.shape[1])\n",
    "b = np.random.rand()"
   ]
  },
  {
   "cell_type": "code",
   "execution_count": 9,
   "metadata": {},
   "outputs": [
    {
     "data": {
      "text/plain": [
       "(25,)"
      ]
     },
     "execution_count": 9,
     "metadata": {},
     "output_type": "execute_result"
    }
   ],
   "source": [
    "w.shape"
   ]
  },
  {
   "cell_type": "code",
   "execution_count": 10,
   "metadata": {},
   "outputs": [],
   "source": [
    "\n",
    "# w = w.reshape(25,1)     # converting into 2D array\n",
    "b = np.array(b)"
   ]
  },
  {
   "cell_type": "code",
   "execution_count": 11,
   "metadata": {},
   "outputs": [
    {
     "name": "stdout",
     "output_type": "stream",
     "text": [
      "w: [4.17022005e-01 7.20324493e-01 1.14374817e-04 3.02332573e-01\n",
      " 1.46755891e-01 9.23385948e-02 1.86260211e-01 3.45560727e-01\n",
      " 3.96767474e-01 5.38816734e-01 4.19194514e-01 6.85219500e-01\n",
      " 2.04452250e-01 8.78117436e-01 2.73875932e-02 6.70467510e-01\n",
      " 4.17304802e-01 5.58689828e-01 1.40386939e-01 1.98101489e-01\n",
      " 8.00744569e-01 9.68261576e-01 3.13424178e-01 6.92322616e-01\n",
      " 8.76389152e-01]\n",
      "b: 0.8946066635038473\n"
     ]
    }
   ],
   "source": [
    "\n",
    "print(f\"w: {w}\")\n",
    "print(f\"b: {b}\")\n"
   ]
  },
  {
   "cell_type": "code",
   "execution_count": 12,
   "metadata": {},
   "outputs": [],
   "source": [
    "y_hat = predictor(x_norm[0],w,b)      #predicted value by our algorithm"
   ]
  },
  {
   "cell_type": "code",
   "execution_count": 13,
   "metadata": {},
   "outputs": [
    {
     "data": {
      "text/plain": [
       "np.float64(0.1548452477056893)"
      ]
     },
     "execution_count": 13,
     "metadata": {},
     "output_type": "execute_result"
    }
   ],
   "source": [
    "y_hat"
   ]
  },
  {
   "cell_type": "code",
   "execution_count": 14,
   "metadata": {},
   "outputs": [
    {
     "data": {
      "text/plain": [
       "np.float64(3099352.996749902)"
      ]
     },
     "execution_count": 14,
     "metadata": {},
     "output_type": "execute_result"
    }
   ],
   "source": [
    "compute_cost(x_norm,y_train,w,b)"
   ]
  },
  {
   "cell_type": "code",
   "execution_count": 15,
   "metadata": {},
   "outputs": [
    {
     "data": {
      "text/plain": [
       "(array([-117.59234815,  -14.93077824, -517.83145094, -720.66154826,\n",
       "          -2.54300717, -815.95402925, -449.12835295,   -9.99604358,\n",
       "        -639.20319753, -230.37557978,   -3.8626377 ,   -7.78425325,\n",
       "        -744.72726938, -654.23667976,    7.81432864, -521.36560444,\n",
       "         -17.78854332, -453.92625724, -409.44858754, -688.96643393,\n",
       "         -77.19077481,    9.87801225, -105.9933854 , -493.42626131,\n",
       "           4.95743417]),\n",
       " np.float64(-1246.08413871465))"
      ]
     },
     "execution_count": 15,
     "metadata": {},
     "output_type": "execute_result"
    }
   ],
   "source": [
    "compute_gradient(x_norm,y_train,w,b)"
   ]
  },
  {
   "cell_type": "code",
   "execution_count": 16,
   "metadata": {},
   "outputs": [],
   "source": [
    "dj_dw, dj_db = compute_gradient(x_norm,y_train,w,b)"
   ]
  },
  {
   "cell_type": "code",
   "execution_count": 17,
   "metadata": {},
   "outputs": [
    {
     "data": {
      "text/plain": [
       "(25,)"
      ]
     },
     "execution_count": 17,
     "metadata": {},
     "output_type": "execute_result"
    }
   ],
   "source": [
    "dj_dw.shape"
   ]
  },
  {
   "cell_type": "code",
   "execution_count": 18,
   "metadata": {},
   "outputs": [
    {
     "data": {
      "text/plain": [
       "()"
      ]
     },
     "execution_count": 18,
     "metadata": {},
     "output_type": "execute_result"
    }
   ],
   "source": [
    "b.shape"
   ]
  },
  {
   "cell_type": "code",
   "execution_count": 19,
   "metadata": {},
   "outputs": [
    {
     "data": {
      "text/plain": [
       "()"
      ]
     },
     "execution_count": 19,
     "metadata": {},
     "output_type": "execute_result"
    }
   ],
   "source": [
    "dj_db.shape"
   ]
  },
  {
   "cell_type": "code",
   "execution_count": 21,
   "metadata": {},
   "outputs": [
    {
     "name": "stdout",
     "output_type": "stream",
     "text": [
      "Iteration 0: Cost 3039177.61\n",
      "Iteration 1000: Cost 58027.41\n",
      "Iteration 2000: Cost 58027.40\n",
      "Iteration 3000: Cost 58027.40\n",
      "Iteration 4000: Cost 58027.40\n",
      "Iteration 5000: Cost 58027.40\n",
      "Iteration 6000: Cost 58027.40\n",
      "Iteration 7000: Cost 58027.40\n",
      "Iteration 8000: Cost 58027.40\n",
      "Iteration 9000: Cost 58027.40\n",
      "Iteration 9999: Cost 58027.40\n"
     ]
    }
   ],
   "source": [
    "iterations = 10000\n",
    "alpha = 0.01\n",
    "\n",
    "w,b, J_history,_ = gradient_descent(x_norm ,y_train, w, b, compute_cost, compute_gradient, alpha, iterations)"
   ]
  },
  {
   "cell_type": "code",
   "execution_count": null,
   "metadata": {},
   "outputs": [],
   "source": []
  },
  {
   "cell_type": "code",
   "execution_count": null,
   "metadata": {},
   "outputs": [],
   "source": []
  },
  {
   "cell_type": "code",
   "execution_count": null,
   "metadata": {},
   "outputs": [],
   "source": []
  },
  {
   "cell_type": "markdown",
   "metadata": {},
   "source": [
    "TESTING"
   ]
  },
  {
   "cell_type": "code",
   "execution_count": 23,
   "metadata": {},
   "outputs": [
    {
     "name": "stdout",
     "output_type": "stream",
     "text": [
      "   ID  Feature_1  Feature_2  Feature_3   Feature_4  Feature_5  Feature_6  \\\n",
      "0   1 -13.296650  26.947913  95.977811  -25.167831 -25.863389 -46.432548   \n",
      "1   2  13.740478  26.632355  -1.056834  113.386950 -26.957189 -40.305571   \n",
      "2   3   5.757701   5.729282  -7.846318    9.063737 -54.522411 -17.102457   \n",
      "3   4  -0.365463  26.040174  15.941714  -47.019942 -32.029202 -34.080470   \n",
      "4   5  -7.076549  13.958214  52.805040  -41.259861 -22.072337 -42.073960   \n",
      "\n",
      "    Feature_7   Feature_8   Feature_9  ...  Feature_16  Feature_17  \\\n",
      "0  -30.120148  -99.220569  -95.771730  ...  -46.275616  -36.211021   \n",
      "1   -8.916968  -99.182781  -65.653323  ...  -53.961100  -27.153987   \n",
      "2  -89.391519  -81.827183 -104.007163  ...  -31.822475  -89.093319   \n",
      "3 -105.277503 -104.742190 -135.598491  ...   -6.004513  -59.862724   \n",
      "4  -42.290671  -91.763629  -18.252699  ...  -38.963648  -42.747877   \n",
      "\n",
      "   Feature_18  Feature_19  Feature_20  Feature_21  Feature_22  Feature_23  \\\n",
      "0   46.588536   -1.146567  -55.504215  -70.993172  -13.516826  -93.085585   \n",
      "1  -20.942724   -5.648802  -27.809076 -151.023959  -37.020808  -99.351817   \n",
      "2   -9.672241   15.562814  -13.848764  -79.762693  -59.360365 -104.771868   \n",
      "3   16.676153  -14.092968  -30.554072  -86.409042   26.117858  -97.644419   \n",
      "4  -10.722687   18.179473  -39.178435 -149.742179  -36.540063 -105.068864   \n",
      "\n",
      "   Feature_24  Feature_25  \n",
      "0  -10.310519  -47.579967  \n",
      "1    7.806000   75.691539  \n",
      "2  -29.851237   71.920184  \n",
      "3  -57.080490    3.592127  \n",
      "4  -63.126882   41.053917  \n",
      "\n",
      "[5 rows x 26 columns]\n"
     ]
    },
    {
     "data": {
      "text/plain": [
       "(12000, 26)"
      ]
     },
     "execution_count": 23,
     "metadata": {},
     "output_type": "execute_result"
    }
   ],
   "source": [
    "file_path = r\"C:\\Users\\Aditya Jain\\OneDrive - Indian Institute of Technology Indian School of Mines Dhanbad\\WOC\\Linear_regression\\linear_regression_test.csv\"\n",
    "\n",
    "df = pd.read_csv(file_path)\n",
    "\n",
    "print(df.head())\n",
    "df.shape"
   ]
  },
  {
   "cell_type": "code",
   "execution_count": 24,
   "metadata": {},
   "outputs": [
    {
     "data": {
      "text/html": [
       "<div>\n",
       "<style scoped>\n",
       "    .dataframe tbody tr th:only-of-type {\n",
       "        vertical-align: middle;\n",
       "    }\n",
       "\n",
       "    .dataframe tbody tr th {\n",
       "        vertical-align: top;\n",
       "    }\n",
       "\n",
       "    .dataframe thead th {\n",
       "        text-align: right;\n",
       "    }\n",
       "</style>\n",
       "<table border=\"1\" class=\"dataframe\">\n",
       "  <thead>\n",
       "    <tr style=\"text-align: right;\">\n",
       "      <th></th>\n",
       "      <th>ID</th>\n",
       "      <th>Feature_1</th>\n",
       "      <th>Feature_2</th>\n",
       "      <th>Feature_3</th>\n",
       "      <th>Feature_4</th>\n",
       "      <th>Feature_5</th>\n",
       "      <th>Feature_6</th>\n",
       "      <th>Feature_7</th>\n",
       "      <th>Feature_8</th>\n",
       "      <th>Feature_9</th>\n",
       "      <th>...</th>\n",
       "      <th>Feature_16</th>\n",
       "      <th>Feature_17</th>\n",
       "      <th>Feature_18</th>\n",
       "      <th>Feature_19</th>\n",
       "      <th>Feature_20</th>\n",
       "      <th>Feature_21</th>\n",
       "      <th>Feature_22</th>\n",
       "      <th>Feature_23</th>\n",
       "      <th>Feature_24</th>\n",
       "      <th>Feature_25</th>\n",
       "    </tr>\n",
       "  </thead>\n",
       "  <tbody>\n",
       "    <tr>\n",
       "      <th>0</th>\n",
       "      <td>1</td>\n",
       "      <td>-13.296650</td>\n",
       "      <td>26.947913</td>\n",
       "      <td>95.977811</td>\n",
       "      <td>-25.167831</td>\n",
       "      <td>-25.863389</td>\n",
       "      <td>-46.432548</td>\n",
       "      <td>-30.120148</td>\n",
       "      <td>-99.220569</td>\n",
       "      <td>-95.771730</td>\n",
       "      <td>...</td>\n",
       "      <td>-46.275616</td>\n",
       "      <td>-36.211021</td>\n",
       "      <td>46.588536</td>\n",
       "      <td>-1.146567</td>\n",
       "      <td>-55.504215</td>\n",
       "      <td>-70.993172</td>\n",
       "      <td>-13.516826</td>\n",
       "      <td>-93.085585</td>\n",
       "      <td>-10.310519</td>\n",
       "      <td>-47.579967</td>\n",
       "    </tr>\n",
       "    <tr>\n",
       "      <th>1</th>\n",
       "      <td>2</td>\n",
       "      <td>13.740478</td>\n",
       "      <td>26.632355</td>\n",
       "      <td>-1.056834</td>\n",
       "      <td>113.386950</td>\n",
       "      <td>-26.957189</td>\n",
       "      <td>-40.305571</td>\n",
       "      <td>-8.916968</td>\n",
       "      <td>-99.182781</td>\n",
       "      <td>-65.653323</td>\n",
       "      <td>...</td>\n",
       "      <td>-53.961100</td>\n",
       "      <td>-27.153987</td>\n",
       "      <td>-20.942724</td>\n",
       "      <td>-5.648802</td>\n",
       "      <td>-27.809076</td>\n",
       "      <td>-151.023959</td>\n",
       "      <td>-37.020808</td>\n",
       "      <td>-99.351817</td>\n",
       "      <td>7.806000</td>\n",
       "      <td>75.691539</td>\n",
       "    </tr>\n",
       "    <tr>\n",
       "      <th>2</th>\n",
       "      <td>3</td>\n",
       "      <td>5.757701</td>\n",
       "      <td>5.729282</td>\n",
       "      <td>-7.846318</td>\n",
       "      <td>9.063737</td>\n",
       "      <td>-54.522411</td>\n",
       "      <td>-17.102457</td>\n",
       "      <td>-89.391519</td>\n",
       "      <td>-81.827183</td>\n",
       "      <td>-104.007163</td>\n",
       "      <td>...</td>\n",
       "      <td>-31.822475</td>\n",
       "      <td>-89.093319</td>\n",
       "      <td>-9.672241</td>\n",
       "      <td>15.562814</td>\n",
       "      <td>-13.848764</td>\n",
       "      <td>-79.762693</td>\n",
       "      <td>-59.360365</td>\n",
       "      <td>-104.771868</td>\n",
       "      <td>-29.851237</td>\n",
       "      <td>71.920184</td>\n",
       "    </tr>\n",
       "    <tr>\n",
       "      <th>3</th>\n",
       "      <td>4</td>\n",
       "      <td>-0.365463</td>\n",
       "      <td>26.040174</td>\n",
       "      <td>15.941714</td>\n",
       "      <td>-47.019942</td>\n",
       "      <td>-32.029202</td>\n",
       "      <td>-34.080470</td>\n",
       "      <td>-105.277503</td>\n",
       "      <td>-104.742190</td>\n",
       "      <td>-135.598491</td>\n",
       "      <td>...</td>\n",
       "      <td>-6.004513</td>\n",
       "      <td>-59.862724</td>\n",
       "      <td>16.676153</td>\n",
       "      <td>-14.092968</td>\n",
       "      <td>-30.554072</td>\n",
       "      <td>-86.409042</td>\n",
       "      <td>26.117858</td>\n",
       "      <td>-97.644419</td>\n",
       "      <td>-57.080490</td>\n",
       "      <td>3.592127</td>\n",
       "    </tr>\n",
       "    <tr>\n",
       "      <th>4</th>\n",
       "      <td>5</td>\n",
       "      <td>-7.076549</td>\n",
       "      <td>13.958214</td>\n",
       "      <td>52.805040</td>\n",
       "      <td>-41.259861</td>\n",
       "      <td>-22.072337</td>\n",
       "      <td>-42.073960</td>\n",
       "      <td>-42.290671</td>\n",
       "      <td>-91.763629</td>\n",
       "      <td>-18.252699</td>\n",
       "      <td>...</td>\n",
       "      <td>-38.963648</td>\n",
       "      <td>-42.747877</td>\n",
       "      <td>-10.722687</td>\n",
       "      <td>18.179473</td>\n",
       "      <td>-39.178435</td>\n",
       "      <td>-149.742179</td>\n",
       "      <td>-36.540063</td>\n",
       "      <td>-105.068864</td>\n",
       "      <td>-63.126882</td>\n",
       "      <td>41.053917</td>\n",
       "    </tr>\n",
       "    <tr>\n",
       "      <th>5</th>\n",
       "      <td>6</td>\n",
       "      <td>3.005478</td>\n",
       "      <td>19.352975</td>\n",
       "      <td>18.522762</td>\n",
       "      <td>-21.106720</td>\n",
       "      <td>-7.810171</td>\n",
       "      <td>-68.748951</td>\n",
       "      <td>-106.904297</td>\n",
       "      <td>-61.464192</td>\n",
       "      <td>-69.937601</td>\n",
       "      <td>...</td>\n",
       "      <td>-42.904417</td>\n",
       "      <td>-64.641467</td>\n",
       "      <td>43.915943</td>\n",
       "      <td>1.659079</td>\n",
       "      <td>-36.796528</td>\n",
       "      <td>-90.382084</td>\n",
       "      <td>-21.904823</td>\n",
       "      <td>-101.001487</td>\n",
       "      <td>33.914447</td>\n",
       "      <td>22.508080</td>\n",
       "    </tr>\n",
       "    <tr>\n",
       "      <th>6</th>\n",
       "      <td>7</td>\n",
       "      <td>0.170168</td>\n",
       "      <td>12.497832</td>\n",
       "      <td>60.112250</td>\n",
       "      <td>-39.859751</td>\n",
       "      <td>-19.323083</td>\n",
       "      <td>-31.145326</td>\n",
       "      <td>23.378366</td>\n",
       "      <td>-96.375026</td>\n",
       "      <td>-100.871903</td>\n",
       "      <td>...</td>\n",
       "      <td>-28.777460</td>\n",
       "      <td>-25.217462</td>\n",
       "      <td>20.891708</td>\n",
       "      <td>3.609999</td>\n",
       "      <td>-30.950915</td>\n",
       "      <td>-149.788473</td>\n",
       "      <td>-45.378593</td>\n",
       "      <td>-99.091111</td>\n",
       "      <td>-60.854613</td>\n",
       "      <td>54.498862</td>\n",
       "    </tr>\n",
       "    <tr>\n",
       "      <th>7</th>\n",
       "      <td>8</td>\n",
       "      <td>8.473334</td>\n",
       "      <td>27.268675</td>\n",
       "      <td>69.419140</td>\n",
       "      <td>-41.551305</td>\n",
       "      <td>-30.796069</td>\n",
       "      <td>-31.972862</td>\n",
       "      <td>-64.985605</td>\n",
       "      <td>-100.001747</td>\n",
       "      <td>-66.302917</td>\n",
       "      <td>...</td>\n",
       "      <td>-17.615222</td>\n",
       "      <td>-1.123492</td>\n",
       "      <td>-11.299980</td>\n",
       "      <td>14.964044</td>\n",
       "      <td>-10.429868</td>\n",
       "      <td>-124.423573</td>\n",
       "      <td>-17.562700</td>\n",
       "      <td>-96.709223</td>\n",
       "      <td>-11.143226</td>\n",
       "      <td>24.015388</td>\n",
       "    </tr>\n",
       "    <tr>\n",
       "      <th>8</th>\n",
       "      <td>9</td>\n",
       "      <td>16.443679</td>\n",
       "      <td>15.428746</td>\n",
       "      <td>70.797101</td>\n",
       "      <td>-59.898964</td>\n",
       "      <td>-38.105308</td>\n",
       "      <td>-40.031534</td>\n",
       "      <td>-99.250162</td>\n",
       "      <td>-93.038974</td>\n",
       "      <td>-121.667462</td>\n",
       "      <td>...</td>\n",
       "      <td>-49.630800</td>\n",
       "      <td>-35.721336</td>\n",
       "      <td>-12.303166</td>\n",
       "      <td>-1.160943</td>\n",
       "      <td>-39.266484</td>\n",
       "      <td>-144.556376</td>\n",
       "      <td>-64.603146</td>\n",
       "      <td>-99.495465</td>\n",
       "      <td>-51.204171</td>\n",
       "      <td>39.369192</td>\n",
       "    </tr>\n",
       "    <tr>\n",
       "      <th>9</th>\n",
       "      <td>10</td>\n",
       "      <td>0.530395</td>\n",
       "      <td>23.851421</td>\n",
       "      <td>-43.764384</td>\n",
       "      <td>19.664813</td>\n",
       "      <td>-25.366404</td>\n",
       "      <td>-31.021129</td>\n",
       "      <td>-29.954438</td>\n",
       "      <td>-102.435790</td>\n",
       "      <td>-67.609802</td>\n",
       "      <td>...</td>\n",
       "      <td>-22.010641</td>\n",
       "      <td>-114.984753</td>\n",
       "      <td>-24.196974</td>\n",
       "      <td>-17.434472</td>\n",
       "      <td>-36.291301</td>\n",
       "      <td>-92.589271</td>\n",
       "      <td>-7.948650</td>\n",
       "      <td>-98.247104</td>\n",
       "      <td>-14.512075</td>\n",
       "      <td>58.050298</td>\n",
       "    </tr>\n",
       "  </tbody>\n",
       "</table>\n",
       "<p>10 rows × 26 columns</p>\n",
       "</div>"
      ],
      "text/plain": [
       "   ID  Feature_1  Feature_2  Feature_3   Feature_4  Feature_5  Feature_6  \\\n",
       "0   1 -13.296650  26.947913  95.977811  -25.167831 -25.863389 -46.432548   \n",
       "1   2  13.740478  26.632355  -1.056834  113.386950 -26.957189 -40.305571   \n",
       "2   3   5.757701   5.729282  -7.846318    9.063737 -54.522411 -17.102457   \n",
       "3   4  -0.365463  26.040174  15.941714  -47.019942 -32.029202 -34.080470   \n",
       "4   5  -7.076549  13.958214  52.805040  -41.259861 -22.072337 -42.073960   \n",
       "5   6   3.005478  19.352975  18.522762  -21.106720  -7.810171 -68.748951   \n",
       "6   7   0.170168  12.497832  60.112250  -39.859751 -19.323083 -31.145326   \n",
       "7   8   8.473334  27.268675  69.419140  -41.551305 -30.796069 -31.972862   \n",
       "8   9  16.443679  15.428746  70.797101  -59.898964 -38.105308 -40.031534   \n",
       "9  10   0.530395  23.851421 -43.764384   19.664813 -25.366404 -31.021129   \n",
       "\n",
       "    Feature_7   Feature_8   Feature_9  ...  Feature_16  Feature_17  \\\n",
       "0  -30.120148  -99.220569  -95.771730  ...  -46.275616  -36.211021   \n",
       "1   -8.916968  -99.182781  -65.653323  ...  -53.961100  -27.153987   \n",
       "2  -89.391519  -81.827183 -104.007163  ...  -31.822475  -89.093319   \n",
       "3 -105.277503 -104.742190 -135.598491  ...   -6.004513  -59.862724   \n",
       "4  -42.290671  -91.763629  -18.252699  ...  -38.963648  -42.747877   \n",
       "5 -106.904297  -61.464192  -69.937601  ...  -42.904417  -64.641467   \n",
       "6   23.378366  -96.375026 -100.871903  ...  -28.777460  -25.217462   \n",
       "7  -64.985605 -100.001747  -66.302917  ...  -17.615222   -1.123492   \n",
       "8  -99.250162  -93.038974 -121.667462  ...  -49.630800  -35.721336   \n",
       "9  -29.954438 -102.435790  -67.609802  ...  -22.010641 -114.984753   \n",
       "\n",
       "   Feature_18  Feature_19  Feature_20  Feature_21  Feature_22  Feature_23  \\\n",
       "0   46.588536   -1.146567  -55.504215  -70.993172  -13.516826  -93.085585   \n",
       "1  -20.942724   -5.648802  -27.809076 -151.023959  -37.020808  -99.351817   \n",
       "2   -9.672241   15.562814  -13.848764  -79.762693  -59.360365 -104.771868   \n",
       "3   16.676153  -14.092968  -30.554072  -86.409042   26.117858  -97.644419   \n",
       "4  -10.722687   18.179473  -39.178435 -149.742179  -36.540063 -105.068864   \n",
       "5   43.915943    1.659079  -36.796528  -90.382084  -21.904823 -101.001487   \n",
       "6   20.891708    3.609999  -30.950915 -149.788473  -45.378593  -99.091111   \n",
       "7  -11.299980   14.964044  -10.429868 -124.423573  -17.562700  -96.709223   \n",
       "8  -12.303166   -1.160943  -39.266484 -144.556376  -64.603146  -99.495465   \n",
       "9  -24.196974  -17.434472  -36.291301  -92.589271   -7.948650  -98.247104   \n",
       "\n",
       "   Feature_24  Feature_25  \n",
       "0  -10.310519  -47.579967  \n",
       "1    7.806000   75.691539  \n",
       "2  -29.851237   71.920184  \n",
       "3  -57.080490    3.592127  \n",
       "4  -63.126882   41.053917  \n",
       "5   33.914447   22.508080  \n",
       "6  -60.854613   54.498862  \n",
       "7  -11.143226   24.015388  \n",
       "8  -51.204171   39.369192  \n",
       "9  -14.512075   58.050298  \n",
       "\n",
       "[10 rows x 26 columns]"
      ]
     },
     "execution_count": 24,
     "metadata": {},
     "output_type": "execute_result"
    }
   ],
   "source": [
    "df.head(10)"
   ]
  },
  {
   "cell_type": "code",
   "execution_count": 25,
   "metadata": {},
   "outputs": [],
   "source": [
    "data = df.to_numpy()"
   ]
  },
  {
   "cell_type": "code",
   "execution_count": 26,
   "metadata": {},
   "outputs": [
    {
     "name": "stdout",
     "output_type": "stream",
     "text": [
      "The shape of x_test is: (12000, 25)\n",
      "Number of testing examples (m): 12000\n"
     ]
    }
   ],
   "source": [
    "# load the dataset\n",
    "x_test = np.delete(data, (0), axis=1)\n",
    "print ('The shape of x_test is:', x_test.shape)\n",
    "print ('Number of testing examples (m):', len(x_test))"
   ]
  },
  {
   "cell_type": "code",
   "execution_count": 27,
   "metadata": {},
   "outputs": [
    {
     "name": "stdout",
     "output_type": "stream",
     "text": [
      "mean_train = [  5.98216757  20.23480577  43.57326924 -21.89395621 -30.82121794\n",
      " -39.59033502 -89.5158562  -90.58278692 -95.10274371  58.82749388\n",
      " -33.75737294 -48.80469679 -72.21501673  97.95906386  45.37714497\n",
      " -30.21046175 -43.27055654   0.99929249   1.15340197 -33.11865985\n",
      " -90.45930275 -23.93663492 -98.39619842 -22.04435266  17.57734085], \n",
      "sigma = [ 9.6618349   5.72578895 43.45587562 39.80383536 15.32448382 16.58421424\n",
      " 34.70887075 11.55854764 40.3514498  34.17735588 42.89064304 33.39406381\n",
      " 30.7871623  12.64864994 16.46782913 19.34078952 47.16504752 33.57089672\n",
      " 13.42497096 15.13171291 32.95129767 27.43953339  4.60959023 40.48207948\n",
      " 42.04122071]\n",
      "Peak to Peak range by column in Raw_x:[ 76.93635348  40.21582867 341.22028456 324.57722878 124.10940798\n",
      " 127.73779443 270.07867301  87.7415806  328.36981419 260.21832351\n",
      " 349.79908206 277.45522877 226.41638272 100.08554047 123.97467917\n",
      " 137.56852032 361.09291933 255.27557147  96.20935939 123.0507937\n",
      " 258.31291225 210.7937375   34.84177254 314.40901065 341.19062112]\n",
      "Peak to Peak range by column in Normalized_x:[7.96291329 7.02363098 7.85210929 8.15442095 8.09876596 7.70237242\n",
      " 7.78125785 7.59105584 8.13774513 7.61376405 8.15560358 8.30851945\n",
      " 7.35424657 7.91274491 7.52829521 7.11286994 7.65594308 7.60407366\n",
      " 7.16644823 8.13198046 7.83923337 7.68211815 7.55854008 7.76662204\n",
      " 8.11562118]\n"
     ]
    }
   ],
   "source": [
    "#normalize the original features\n",
    "print(f\"mean_train = {mean_train}, \\nsigma = {sigma_train}\")\n",
    "x_norm =z_score_normalization_test(x_test,mean_train,sigma_train)\n",
    "print(f\"Peak to Peak range by column in Raw_x:{np.ptp(x_test,axis=0)}\")   \n",
    "print(f\"Peak to Peak range by column in Normalized_x:{np.ptp(x_norm,axis=0)}\")"
   ]
  },
  {
   "cell_type": "code",
   "execution_count": 28,
   "metadata": {},
   "outputs": [],
   "source": [
    "x_trail = x_norm[(1,2,4),:]"
   ]
  },
  {
   "cell_type": "code",
   "execution_count": 29,
   "metadata": {},
   "outputs": [
    {
     "data": {
      "text/plain": [
       "array([4496.89101271, 4051.35608139,  745.42210295])"
      ]
     },
     "execution_count": 29,
     "metadata": {},
     "output_type": "execute_result"
    }
   ],
   "source": [
    "predictor(x_trail, w, b)"
   ]
  },
  {
   "cell_type": "code",
   "execution_count": null,
   "metadata": {},
   "outputs": [],
   "source": []
  },
  {
   "cell_type": "code",
   "execution_count": null,
   "metadata": {},
   "outputs": [],
   "source": []
  }
 ],
 "metadata": {
  "kernelspec": {
   "display_name": "Python 3",
   "language": "python",
   "name": "python3"
  },
  "language_info": {
   "codemirror_mode": {
    "name": "ipython",
    "version": 3
   },
   "file_extension": ".py",
   "mimetype": "text/x-python",
   "name": "python",
   "nbconvert_exporter": "python",
   "pygments_lexer": "ipython3",
   "version": "3.11.9"
  }
 },
 "nbformat": 4,
 "nbformat_minor": 2
}
