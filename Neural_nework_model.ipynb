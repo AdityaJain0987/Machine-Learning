{
 "cells": [
  {
   "cell_type": "code",
   "execution_count": 1,
   "metadata": {},
   "outputs": [
    {
     "name": "stdout",
     "output_type": "stream",
     "text": [
      "   ID  Feature_1  Feature_2  Feature_3  Feature_4  Feature_5  Feature_6  \\\n",
      "0   1         81        109         91         96        107         97   \n",
      "1   2        168        168        169        169        170        171   \n",
      "2   3         14         20         32          6         27          6   \n",
      "3   4         60        109        157        126         82         80   \n",
      "4   5         63         72         86         75         93         77   \n",
      "\n",
      "   Feature_7  Feature_8  Feature_9  ...  Feature_1017  Feature_1018  \\\n",
      "0        103         95        100  ...           114            93   \n",
      "1        172        172        175  ...            44            44   \n",
      "2          5         34         15  ...            63            64   \n",
      "3         70         58         37  ...           105           102   \n",
      "4         75         67         62  ...           108           109   \n",
      "\n",
      "   Feature_1019  Feature_1020  Feature_1021  Feature_1022  Feature_1023  \\\n",
      "0            91            98            72            92            78   \n",
      "1            44            44            44            44            44   \n",
      "2            63            60            54            48            43   \n",
      "3            99            98           100           105           111   \n",
      "4           102           106            96            91           102   \n",
      "\n",
      "   Feature_1024  binary_label  class_label  \n",
      "0            78             0            5  \n",
      "1            44             0            9  \n",
      "2            41             0            5  \n",
      "3           114             1            8  \n",
      "4            89             0            5  \n",
      "\n",
      "[5 rows x 1027 columns]\n"
     ]
    },
    {
     "data": {
      "text/plain": [
       "(80000, 1027)"
      ]
     },
     "execution_count": 1,
     "metadata": {},
     "output_type": "execute_result"
    }
   ],
   "source": [
    "import numpy as np\n",
    "import pandas as pd\n",
    "import matplotlib.pyplot as plt\n",
    "from Neural_Network_Lib2 import *\n",
    "\n",
    "\n",
    "file_path = r\"C:\\Users\\Aditya Jain\\OneDrive - Indian Institute of Technology Indian School of Mines Dhanbad\\WOC\\Neural_network\\nn_train.csv\"\n",
    "\n",
    "df = pd.read_csv(file_path)\n",
    "\n",
    "print(df.head())\n",
    "df.shape"
   ]
  },
  {
   "cell_type": "markdown",
   "metadata": {},
   "source": [
    "TRAINING"
   ]
  },
  {
   "cell_type": "code",
   "execution_count": 2,
   "metadata": {},
   "outputs": [
    {
     "data": {
      "text/html": [
       "<div>\n",
       "<style scoped>\n",
       "    .dataframe tbody tr th:only-of-type {\n",
       "        vertical-align: middle;\n",
       "    }\n",
       "\n",
       "    .dataframe tbody tr th {\n",
       "        vertical-align: top;\n",
       "    }\n",
       "\n",
       "    .dataframe thead th {\n",
       "        text-align: right;\n",
       "    }\n",
       "</style>\n",
       "<table border=\"1\" class=\"dataframe\">\n",
       "  <thead>\n",
       "    <tr style=\"text-align: right;\">\n",
       "      <th></th>\n",
       "      <th>ID</th>\n",
       "      <th>Feature_1</th>\n",
       "      <th>Feature_2</th>\n",
       "      <th>Feature_3</th>\n",
       "      <th>Feature_4</th>\n",
       "      <th>Feature_5</th>\n",
       "      <th>Feature_6</th>\n",
       "      <th>Feature_7</th>\n",
       "      <th>Feature_8</th>\n",
       "      <th>Feature_9</th>\n",
       "      <th>...</th>\n",
       "      <th>Feature_1017</th>\n",
       "      <th>Feature_1018</th>\n",
       "      <th>Feature_1019</th>\n",
       "      <th>Feature_1020</th>\n",
       "      <th>Feature_1021</th>\n",
       "      <th>Feature_1022</th>\n",
       "      <th>Feature_1023</th>\n",
       "      <th>Feature_1024</th>\n",
       "      <th>binary_label</th>\n",
       "      <th>class_label</th>\n",
       "    </tr>\n",
       "  </thead>\n",
       "  <tbody>\n",
       "    <tr>\n",
       "      <th>0</th>\n",
       "      <td>1</td>\n",
       "      <td>81</td>\n",
       "      <td>109</td>\n",
       "      <td>91</td>\n",
       "      <td>96</td>\n",
       "      <td>107</td>\n",
       "      <td>97</td>\n",
       "      <td>103</td>\n",
       "      <td>95</td>\n",
       "      <td>100</td>\n",
       "      <td>...</td>\n",
       "      <td>114</td>\n",
       "      <td>93</td>\n",
       "      <td>91</td>\n",
       "      <td>98</td>\n",
       "      <td>72</td>\n",
       "      <td>92</td>\n",
       "      <td>78</td>\n",
       "      <td>78</td>\n",
       "      <td>0</td>\n",
       "      <td>5</td>\n",
       "    </tr>\n",
       "    <tr>\n",
       "      <th>1</th>\n",
       "      <td>2</td>\n",
       "      <td>168</td>\n",
       "      <td>168</td>\n",
       "      <td>169</td>\n",
       "      <td>169</td>\n",
       "      <td>170</td>\n",
       "      <td>171</td>\n",
       "      <td>172</td>\n",
       "      <td>172</td>\n",
       "      <td>175</td>\n",
       "      <td>...</td>\n",
       "      <td>44</td>\n",
       "      <td>44</td>\n",
       "      <td>44</td>\n",
       "      <td>44</td>\n",
       "      <td>44</td>\n",
       "      <td>44</td>\n",
       "      <td>44</td>\n",
       "      <td>44</td>\n",
       "      <td>0</td>\n",
       "      <td>9</td>\n",
       "    </tr>\n",
       "    <tr>\n",
       "      <th>2</th>\n",
       "      <td>3</td>\n",
       "      <td>14</td>\n",
       "      <td>20</td>\n",
       "      <td>32</td>\n",
       "      <td>6</td>\n",
       "      <td>27</td>\n",
       "      <td>6</td>\n",
       "      <td>5</td>\n",
       "      <td>34</td>\n",
       "      <td>15</td>\n",
       "      <td>...</td>\n",
       "      <td>63</td>\n",
       "      <td>64</td>\n",
       "      <td>63</td>\n",
       "      <td>60</td>\n",
       "      <td>54</td>\n",
       "      <td>48</td>\n",
       "      <td>43</td>\n",
       "      <td>41</td>\n",
       "      <td>0</td>\n",
       "      <td>5</td>\n",
       "    </tr>\n",
       "    <tr>\n",
       "      <th>3</th>\n",
       "      <td>4</td>\n",
       "      <td>60</td>\n",
       "      <td>109</td>\n",
       "      <td>157</td>\n",
       "      <td>126</td>\n",
       "      <td>82</td>\n",
       "      <td>80</td>\n",
       "      <td>70</td>\n",
       "      <td>58</td>\n",
       "      <td>37</td>\n",
       "      <td>...</td>\n",
       "      <td>105</td>\n",
       "      <td>102</td>\n",
       "      <td>99</td>\n",
       "      <td>98</td>\n",
       "      <td>100</td>\n",
       "      <td>105</td>\n",
       "      <td>111</td>\n",
       "      <td>114</td>\n",
       "      <td>1</td>\n",
       "      <td>8</td>\n",
       "    </tr>\n",
       "    <tr>\n",
       "      <th>4</th>\n",
       "      <td>5</td>\n",
       "      <td>63</td>\n",
       "      <td>72</td>\n",
       "      <td>86</td>\n",
       "      <td>75</td>\n",
       "      <td>93</td>\n",
       "      <td>77</td>\n",
       "      <td>75</td>\n",
       "      <td>67</td>\n",
       "      <td>62</td>\n",
       "      <td>...</td>\n",
       "      <td>108</td>\n",
       "      <td>109</td>\n",
       "      <td>102</td>\n",
       "      <td>106</td>\n",
       "      <td>96</td>\n",
       "      <td>91</td>\n",
       "      <td>102</td>\n",
       "      <td>89</td>\n",
       "      <td>0</td>\n",
       "      <td>5</td>\n",
       "    </tr>\n",
       "    <tr>\n",
       "      <th>5</th>\n",
       "      <td>6</td>\n",
       "      <td>108</td>\n",
       "      <td>139</td>\n",
       "      <td>141</td>\n",
       "      <td>132</td>\n",
       "      <td>134</td>\n",
       "      <td>118</td>\n",
       "      <td>103</td>\n",
       "      <td>118</td>\n",
       "      <td>121</td>\n",
       "      <td>...</td>\n",
       "      <td>71</td>\n",
       "      <td>76</td>\n",
       "      <td>74</td>\n",
       "      <td>61</td>\n",
       "      <td>47</td>\n",
       "      <td>35</td>\n",
       "      <td>22</td>\n",
       "      <td>11</td>\n",
       "      <td>0</td>\n",
       "      <td>10</td>\n",
       "    </tr>\n",
       "    <tr>\n",
       "      <th>6</th>\n",
       "      <td>7</td>\n",
       "      <td>127</td>\n",
       "      <td>122</td>\n",
       "      <td>124</td>\n",
       "      <td>124</td>\n",
       "      <td>122</td>\n",
       "      <td>135</td>\n",
       "      <td>151</td>\n",
       "      <td>154</td>\n",
       "      <td>158</td>\n",
       "      <td>...</td>\n",
       "      <td>62</td>\n",
       "      <td>52</td>\n",
       "      <td>51</td>\n",
       "      <td>78</td>\n",
       "      <td>97</td>\n",
       "      <td>120</td>\n",
       "      <td>140</td>\n",
       "      <td>113</td>\n",
       "      <td>1</td>\n",
       "      <td>9</td>\n",
       "    </tr>\n",
       "    <tr>\n",
       "      <th>7</th>\n",
       "      <td>8</td>\n",
       "      <td>40</td>\n",
       "      <td>52</td>\n",
       "      <td>70</td>\n",
       "      <td>85</td>\n",
       "      <td>95</td>\n",
       "      <td>102</td>\n",
       "      <td>107</td>\n",
       "      <td>111</td>\n",
       "      <td>105</td>\n",
       "      <td>...</td>\n",
       "      <td>12</td>\n",
       "      <td>15</td>\n",
       "      <td>15</td>\n",
       "      <td>12</td>\n",
       "      <td>11</td>\n",
       "      <td>11</td>\n",
       "      <td>6</td>\n",
       "      <td>0</td>\n",
       "      <td>0</td>\n",
       "      <td>8</td>\n",
       "    </tr>\n",
       "    <tr>\n",
       "      <th>8</th>\n",
       "      <td>9</td>\n",
       "      <td>217</td>\n",
       "      <td>213</td>\n",
       "      <td>224</td>\n",
       "      <td>220</td>\n",
       "      <td>203</td>\n",
       "      <td>206</td>\n",
       "      <td>187</td>\n",
       "      <td>133</td>\n",
       "      <td>140</td>\n",
       "      <td>...</td>\n",
       "      <td>187</td>\n",
       "      <td>176</td>\n",
       "      <td>214</td>\n",
       "      <td>234</td>\n",
       "      <td>223</td>\n",
       "      <td>223</td>\n",
       "      <td>217</td>\n",
       "      <td>213</td>\n",
       "      <td>1</td>\n",
       "      <td>8</td>\n",
       "    </tr>\n",
       "    <tr>\n",
       "      <th>9</th>\n",
       "      <td>10</td>\n",
       "      <td>109</td>\n",
       "      <td>110</td>\n",
       "      <td>110</td>\n",
       "      <td>112</td>\n",
       "      <td>113</td>\n",
       "      <td>116</td>\n",
       "      <td>118</td>\n",
       "      <td>119</td>\n",
       "      <td>121</td>\n",
       "      <td>...</td>\n",
       "      <td>84</td>\n",
       "      <td>82</td>\n",
       "      <td>79</td>\n",
       "      <td>77</td>\n",
       "      <td>75</td>\n",
       "      <td>73</td>\n",
       "      <td>70</td>\n",
       "      <td>67</td>\n",
       "      <td>0</td>\n",
       "      <td>3</td>\n",
       "    </tr>\n",
       "  </tbody>\n",
       "</table>\n",
       "<p>10 rows × 1027 columns</p>\n",
       "</div>"
      ],
      "text/plain": [
       "   ID  Feature_1  Feature_2  Feature_3  Feature_4  Feature_5  Feature_6  \\\n",
       "0   1         81        109         91         96        107         97   \n",
       "1   2        168        168        169        169        170        171   \n",
       "2   3         14         20         32          6         27          6   \n",
       "3   4         60        109        157        126         82         80   \n",
       "4   5         63         72         86         75         93         77   \n",
       "5   6        108        139        141        132        134        118   \n",
       "6   7        127        122        124        124        122        135   \n",
       "7   8         40         52         70         85         95        102   \n",
       "8   9        217        213        224        220        203        206   \n",
       "9  10        109        110        110        112        113        116   \n",
       "\n",
       "   Feature_7  Feature_8  Feature_9  ...  Feature_1017  Feature_1018  \\\n",
       "0        103         95        100  ...           114            93   \n",
       "1        172        172        175  ...            44            44   \n",
       "2          5         34         15  ...            63            64   \n",
       "3         70         58         37  ...           105           102   \n",
       "4         75         67         62  ...           108           109   \n",
       "5        103        118        121  ...            71            76   \n",
       "6        151        154        158  ...            62            52   \n",
       "7        107        111        105  ...            12            15   \n",
       "8        187        133        140  ...           187           176   \n",
       "9        118        119        121  ...            84            82   \n",
       "\n",
       "   Feature_1019  Feature_1020  Feature_1021  Feature_1022  Feature_1023  \\\n",
       "0            91            98            72            92            78   \n",
       "1            44            44            44            44            44   \n",
       "2            63            60            54            48            43   \n",
       "3            99            98           100           105           111   \n",
       "4           102           106            96            91           102   \n",
       "5            74            61            47            35            22   \n",
       "6            51            78            97           120           140   \n",
       "7            15            12            11            11             6   \n",
       "8           214           234           223           223           217   \n",
       "9            79            77            75            73            70   \n",
       "\n",
       "   Feature_1024  binary_label  class_label  \n",
       "0            78             0            5  \n",
       "1            44             0            9  \n",
       "2            41             0            5  \n",
       "3           114             1            8  \n",
       "4            89             0            5  \n",
       "5            11             0           10  \n",
       "6           113             1            9  \n",
       "7             0             0            8  \n",
       "8           213             1            8  \n",
       "9            67             0            3  \n",
       "\n",
       "[10 rows x 1027 columns]"
      ]
     },
     "execution_count": 2,
     "metadata": {},
     "output_type": "execute_result"
    }
   ],
   "source": [
    "df.head(10)"
   ]
  },
  {
   "cell_type": "code",
   "execution_count": 3,
   "metadata": {},
   "outputs": [],
   "source": [
    "data = df.to_numpy()"
   ]
  },
  {
   "cell_type": "code",
   "execution_count": 4,
   "metadata": {},
   "outputs": [],
   "source": [
    "# load the dataset\n",
    "x_train = np.delete(data, (0,1025,1026), axis=1)\n",
    "y_binary_label_train = data[:,1025]\n",
    "y_class_label_train = data[:,1026]\n"
   ]
  },
  {
   "cell_type": "code",
   "execution_count": 5,
   "metadata": {},
   "outputs": [],
   "source": [
    "y_one_hot = y_one_hot_converter(y_class_label_train)"
   ]
  },
  {
   "cell_type": "code",
   "execution_count": 6,
   "metadata": {},
   "outputs": [
    {
     "name": "stdout",
     "output_type": "stream",
     "text": [
      "The shape of x_train is: (80000, 1024)\n",
      "The shape of y_binary_label_train is:  (80000,)\n",
      "The shape of y_class_label_train is:  (80000,)\n",
      "Number of training examples (m): 80000\n"
     ]
    }
   ],
   "source": [
    "print ('The shape of x_train is:', x_train.shape)\n",
    "print ('The shape of y_binary_label_train is: ', y_binary_label_train.shape)\n",
    "print ('The shape of y_class_label_train is: ', y_class_label_train.shape)\n",
    "print ('Number of training examples (m):', len(x_train))"
   ]
  },
  {
   "cell_type": "code",
   "execution_count": 7,
   "metadata": {},
   "outputs": [],
   "source": [
    "#rough \n",
    "# plt.plot(x_train,y_train,'g.-')\n",
    "# plt.show()"
   ]
  },
  {
   "cell_type": "code",
   "execution_count": 8,
   "metadata": {},
   "outputs": [
    {
     "name": "stdout",
     "output_type": "stream",
     "text": [
      "mean_train = [115.7538875 116.2609375 117.575125  ... 111.22925   110.3508\n",
      " 109.89325  ], \n",
      "sigma = [69.39115284 68.40555186 68.00200168 ... 57.62745132 57.93038573\n",
      " 58.8021688 ]\n",
      "Peak to Peak range by column in Raw_x:[255 255 255 ... 255 255 255]\n",
      "Peak to Peak range by column in Normalized_x:[3.67482005 3.7277676  3.74988962 ... 4.42497446 4.40183501 4.33657474]\n"
     ]
    }
   ],
   "source": [
    "# normalize the original features\n",
    "x_norm , mean_train , sigma_train =z_score_normalization_train(x_train)\n",
    "print(f\"mean_train = {mean_train}, \\nsigma = {sigma_train}\")\n",
    "print(f\"Peak to Peak range by column in Raw_x:{np.ptp(x_train,axis=0)}\")   \n",
    "print(f\"Peak to Peak range by column in Normalized_x:{np.ptp(x_norm,axis=0)}\")"
   ]
  },
  {
   "cell_type": "code",
   "execution_count": 9,
   "metadata": {},
   "outputs": [],
   "source": [
    "np.random.seed(1)\n",
    "w1 = np.random.randn(2048,1024)\n",
    "w2 = np.random.randn(512,2048)\n",
    "w3 = np.random.randn(128,512)\n",
    "w4 = np.random.randn(16,128)\n",
    "w5_binary= np.random.randn(1,16)\n",
    "w5_class= np.random.randn(10,16)\n",
    "\n",
    "b1 = np.random.randn(1,2048)\n",
    "b2 = np.random.randn(1,512)\n",
    "b3 = np.random.randn(1,128)\n",
    "b4 = np.random.randn(1,16)\n",
    "b5_binary = np.random.randn(1,1)\n",
    "b5_class = np.random.randn(1,10)"
   ]
  },
  {
   "cell_type": "code",
   "execution_count": 10,
   "metadata": {},
   "outputs": [
    {
     "name": "stdout",
     "output_type": "stream",
     "text": [
      "(80000, 10)\n"
     ]
    },
    {
     "name": "stderr",
     "output_type": "stream",
     "text": [
      "c:\\Users\\Aditya Jain\\OneDrive - Indian Institute of Technology Indian School of Mines Dhanbad\\WOC\\Neural_network\\Neural_Network_Lib2.py:15: RuntimeWarning: overflow encountered in exp\n",
      "  return 1 / (1 + np.exp(-a))\n"
     ]
    }
   ],
   "source": [
    "a1,a2,a3,a4= forward_propagation(x_norm,w1, b1,w2, b2,w3, b3,w4, b4)\n",
    "_binary_output_probability=binary_output_probability(a4, w5_binary, b5_binary)\n",
    "class_output_probability =class_output(a4, w5_class, b5_class)\n",
    "print(class_output_probability.shape)\n"
   ]
  },
  {
   "cell_type": "code",
   "execution_count": 11,
   "metadata": {},
   "outputs": [
    {
     "name": "stdout",
     "output_type": "stream",
     "text": [
      "(80000, 2048) (80000, 512) (80000, 128) (80000, 16)\n"
     ]
    }
   ],
   "source": [
    "print(a1.shape,a2.shape,a3.shape,a4.shape)"
   ]
  },
  {
   "cell_type": "code",
   "execution_count": 13,
   "metadata": {},
   "outputs": [
    {
     "name": "stdout",
     "output_type": "stream",
     "text": [
      "(80000, 1)\n",
      "(80000,)\n"
     ]
    }
   ],
   "source": [
    "result_binary = predict_binary(_binary_output_probability)\n",
    "result_class  =predict_softmax(class_output_probability)\n",
    "print(result_binary.shape)\n",
    "print(result_class.shape)\n"
   ]
  },
  {
   "cell_type": "code",
   "execution_count": 14,
   "metadata": {},
   "outputs": [
    {
     "name": "stdout",
     "output_type": "stream",
     "text": [
      "[[0.]\n",
      " [0.]\n",
      " [0.]\n",
      " [0.]\n",
      " [0.]\n",
      " [1.]\n",
      " [0.]\n",
      " [1.]\n",
      " [0.]\n",
      " [1.]\n",
      " [1.]\n",
      " [0.]\n",
      " [0.]\n",
      " [0.]\n",
      " [1.]\n",
      " [0.]\n",
      " [0.]\n",
      " [0.]\n",
      " [0.]\n",
      " [1.]]\n"
     ]
    }
   ],
   "source": [
    "print(_binary_output_probability[:20])  # Show first 20 elements\n"
   ]
  },
  {
   "cell_type": "code",
   "execution_count": 15,
   "metadata": {},
   "outputs": [
    {
     "name": "stdout",
     "output_type": "stream",
     "text": [
      "[10  4  8 ... 10 10  4]\n"
     ]
    }
   ],
   "source": [
    "print(result_class)"
   ]
  },
  {
   "cell_type": "code",
   "execution_count": 16,
   "metadata": {},
   "outputs": [
    {
     "name": "stdout",
     "output_type": "stream",
     "text": [
      "The accuracy is 48.85%\n"
     ]
    }
   ],
   "source": [
    "accuracy(result_binary, y_binary_label_train)"
   ]
  },
  {
   "cell_type": "code",
   "execution_count": 21,
   "metadata": {},
   "outputs": [],
   "source": [
    "for i in range(50):\n",
    "    w1, b1, w2, b2, w3, b3, w4, b4, w5_binary, b5_binary = backward_propagation_sigmoid(x_norm,y_class_label_train,a1,a2,a3,a4, w1, b1, w2, b2, w3, b3, w4, b4, w5_binary, b5_binary, _binary_output_probability)\n",
    "    "
   ]
  },
  {
   "cell_type": "code",
   "execution_count": 24,
   "metadata": {},
   "outputs": [],
   "source": [
    "a1,a2,a3,a4= forward_propagation(x_norm,w1, b1,w2, b2,w3, b3,w4, b4)\n",
    "_binary_output_probability=binary_output_probability(a4, w5_binary, b5_binary)\n",
    "# class_output_probability =class__output(a4, w5_class, b5_class)\n",
    "result_binary = predict_binary(_binary_output_probability)\n",
    "# result_class  =predict_softmax(class_output_probability)"
   ]
  },
  {
   "cell_type": "code",
   "execution_count": 25,
   "metadata": {},
   "outputs": [
    {
     "name": "stdout",
     "output_type": "stream",
     "text": [
      "The accuracy is 50.00%\n"
     ]
    }
   ],
   "source": [
    "result_binary\n",
    "accuracy(result_binary, y_binary_label_train)"
   ]
  },
  {
   "cell_type": "code",
   "execution_count": null,
   "metadata": {},
   "outputs": [],
   "source": []
  },
  {
   "cell_type": "code",
   "execution_count": null,
   "metadata": {},
   "outputs": [],
   "source": [
    "for i in range(50):    \n",
    "    w1, b1, w2, b2, w3, b3, w4, b4, w5_class, b5_class = backward_softmax(x_norm,y_one_hot,a1,a2,a3,a4, w1, b1, w2, b2, w3, b3, w4, b4, w5_class, b5_class, class_output_probability)"
   ]
  },
  {
   "cell_type": "code",
   "execution_count": 20,
   "metadata": {},
   "outputs": [],
   "source": [
    "a1,a2,a3,a4= forward_propagation(x_norm,w1, b1,w2, b2,w3, b3,w4, b4)\n",
    "# binary_output_probability=binary__output__probability(a4, w5_binary, b5_binary)\n",
    "class_output_probability =class__output(a4, w5_class, b5_class)\n",
    "# result_binary = predict_binary(binary_output_probability)\n",
    "result_class  =predict_softmax(class_output_probability)"
   ]
  },
  {
   "cell_type": "code",
   "execution_count": null,
   "metadata": {},
   "outputs": [],
   "source": [
    "result_class"
   ]
  },
  {
   "cell_type": "markdown",
   "metadata": {},
   "source": [
    "TESTING"
   ]
  },
  {
   "cell_type": "code",
   "execution_count": null,
   "metadata": {},
   "outputs": [],
   "source": [
    "file_path = r\"C:\\Users\\Aditya Jain\\OneDrive - Indian Institute of Technology Indian School of Mines Dhanbad\\WOC\\Neural_network\\nn_test.csv\"\n",
    "\n",
    "df = pd.read_csv(file_path)\n",
    "\n",
    "print(df.head())\n",
    "df.shape"
   ]
  },
  {
   "cell_type": "code",
   "execution_count": null,
   "metadata": {},
   "outputs": [],
   "source": [
    "df.head(10)"
   ]
  },
  {
   "cell_type": "code",
   "execution_count": 24,
   "metadata": {},
   "outputs": [],
   "source": [
    "data = df.to_numpy()"
   ]
  },
  {
   "cell_type": "code",
   "execution_count": null,
   "metadata": {},
   "outputs": [],
   "source": [
    "# load the dataset\n",
    "x_test = np.delete(data, (0), axis=1)\n",
    "print ('The shape of x_test is:', x_test.shape)\n",
    "print ('Number of testing examples (m):', len(x_test))"
   ]
  },
  {
   "cell_type": "code",
   "execution_count": null,
   "metadata": {},
   "outputs": [],
   "source": [
    "#normalize the original features\n",
    "print(f\"mean_train = {mean_train}, \\nsigma = {sigma_train}\")\n",
    "x_norm =z_score_normalization_test(x_test,mean_train,sigma_train)\n",
    "print(f\"Peak to Peak range by column in Raw_x:{np.ptp(x_test,axis=0)}\")   \n",
    "print(f\"Peak to Peak range by column in Normalized_x:{np.ptp(x_norm,axis=0)}\")"
   ]
  },
  {
   "cell_type": "code",
   "execution_count": null,
   "metadata": {},
   "outputs": [],
   "source": []
  },
  {
   "cell_type": "code",
   "execution_count": null,
   "metadata": {},
   "outputs": [],
   "source": []
  },
  {
   "cell_type": "code",
   "execution_count": null,
   "metadata": {},
   "outputs": [],
   "source": []
  }
 ],
 "metadata": {
  "kernelspec": {
   "display_name": "Python 3",
   "language": "python",
   "name": "python3"
  },
  "language_info": {
   "codemirror_mode": {
    "name": "ipython",
    "version": 3
   },
   "file_extension": ".py",
   "mimetype": "text/x-python",
   "name": "python",
   "nbconvert_exporter": "python",
   "pygments_lexer": "ipython3",
   "version": "3.11.9"
  }
 },
 "nbformat": 4,
 "nbformat_minor": 2
}
